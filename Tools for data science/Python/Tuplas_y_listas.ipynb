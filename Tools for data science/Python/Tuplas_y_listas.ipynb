{
 "cells": [
  {
   "cell_type": "markdown",
   "metadata": {},
   "source": [
    "# Curso Python\n",
    "## Tuplas y Listas\n",
    "\n",
    "### Tuplas\n",
    "Las tuplas, son una forma de secuencia de valores o datos dentro de paréntesis, donde cada uno de sus elementos está separado por comas, observemos:"
   ]
  },
  {
   "cell_type": "code",
   "execution_count": 53,
   "metadata": {},
   "outputs": [
    {
     "data": {
      "text/plain": [
       "(1, 2, 3, 4, 5, 6, 7, 8)"
      ]
     },
     "execution_count": 53,
     "metadata": {},
     "output_type": "execute_result"
    }
   ],
   "source": [
    "tupla = (1, 2, 3, 4, 5, 6, 7, 8)\n",
    "tupla"
   ]
  },
  {
   "cell_type": "markdown",
   "metadata": {},
   "source": [
    "Las tuplas no están limitadas a ningún tipo de datos, es decir dentro de una tupla, pueden ir varios tipos de los que están admitidos en Python, por ejemplo:"
   ]
  },
  {
   "cell_type": "code",
   "execution_count": 54,
   "metadata": {},
   "outputs": [
    {
     "name": "stdout",
     "output_type": "stream",
     "text": [
      "('Python', 'C++', 9, 10, 11)\n"
     ]
    }
   ],
   "source": [
    "tupla_2 = ('Python', 'C++', 9, 10, 11)\n",
    "print(tupla_2)"
   ]
  },
  {
   "cell_type": "markdown",
   "metadata": {},
   "source": [
    "Muy bien, ¿recuerdas que comentamos que los strings se consideraban una secuencia al igual que las tuplas y listas?\n",
    "\n",
    "Pues de igual forma podemos acceder a elementos de la tupla consultando via índice al igual que los caracteres de un string, donde podemos empezar a contar desde el último elemento o el primero utilizando -1 o 0 respectivamente, entendiendo como funcionan los strings no deberías tener problema en comprender la siguiente celda:"
   ]
  },
  {
   "cell_type": "code",
   "execution_count": 55,
   "metadata": {},
   "outputs": [
    {
     "data": {
      "text/plain": [
       "('C++',)"
      ]
     },
     "execution_count": 55,
     "metadata": {},
     "output_type": "execute_result"
    }
   ],
   "source": [
    "tupla_2[1:2]"
   ]
  },
  {
   "cell_type": "markdown",
   "metadata": {},
   "source": [
    "Al igual que los strings, puedes seccionar las tuplas, extraer elementos en pasos (stride), etc. \n",
    "\n",
    "En la celda de código anterior, intenta extraer el último elemento de la tupla, despues intenta seleccionar elementos de dos en dos en la tupla utilizando lo que aprendiste con los strings, luego trata de crear tres tuplas, 1 tupla usando solo números enteros(int), una segunda tupla usando números reales(float) y al menos dos strings. Finalmente, crea una tercera tupla en la que concatenes  usando el operador \"+\", te debería quedar algo asi el aplicar la concatenación:"
   ]
  },
  {
   "cell_type": "code",
   "execution_count": 56,
   "metadata": {},
   "outputs": [
    {
     "data": {
      "text/plain": [
       "('Python', 'C++', 9, 10, 11, 1, 2, 3, 4, 5, 6, 7, 8)"
      ]
     },
     "execution_count": 56,
     "metadata": {},
     "output_type": "execute_result"
    }
   ],
   "source": [
    "tupla_3 = tupla_2 + tupla\n",
    "tupla_3"
   ]
  },
  {
   "cell_type": "markdown",
   "metadata": {},
   "source": [
    "Como dijimos, las tuplas no están limitadas a un solo tipo de datos, pueden almacenar otras tuplas también u otros tipos de datos o variables complejos, esta técnica se conoce como \"nesting\" por ejemplo:"
   ]
  },
  {
   "cell_type": "code",
   "execution_count": 57,
   "metadata": {},
   "outputs": [
    {
     "data": {
      "text/plain": [
       "(('Python', 'C++', 9, 10, 11, 1, 2, 3, 4, 5, 6, 7, 8), 1, 2.02, 'Python')"
      ]
     },
     "execution_count": 57,
     "metadata": {},
     "output_type": "execute_result"
    }
   ],
   "source": [
    "tupla_4 = (tupla_3, 1, 2.02, \"Python\")\n",
    "tupla_4"
   ]
  },
  {
   "cell_type": "markdown",
   "metadata": {},
   "source": [
    "En el ejemplo anterior almacenamos una tupla que hace una operación de concatenación, agregamos un numero entero, un numero real (float) y un string, como puedes observar, no hubo ningún inconveniente a la hora de realizarlo, las tuplas pueden almacenar bastante información compleja si es necesario y puedes \"desempaquetarlas\" siempre que lo necesites para extraer información, incluso puedes desempaquetar una tupla dentro de otra:"
   ]
  },
  {
   "cell_type": "code",
   "execution_count": 58,
   "metadata": {},
   "outputs": [
    {
     "data": {
      "text/plain": [
       "(9, 11, 2, 4, 6, 8)"
      ]
     },
     "execution_count": 58,
     "metadata": {},
     "output_type": "execute_result"
    }
   ],
   "source": [
    "tupla_4 [0][2:13:2]"
   ]
  },
  {
   "cell_type": "markdown",
   "metadata": {},
   "source": [
    "Lo que hice en este caso fue darle la instrucción a la computadora de desempaquetar el elemento 0 de la tupla (que es una tupla \"nesteada\") y de la tupla que extraje seleccionar el elemento 2, aislarlo y de allí aislar elementos de dos en dos, hasta llegar al último elemento, nota como en el segundo parámetro dentro de los segundos corchetes puse un valor mayor al total de elementos de la tupla.\n",
    "\n",
    "Esto se debe a que la tupla es de 12 elementos, y quiero que mi instrucción tome en cuenta el último elemento de la tupla (el 12), y si recuerdas siempre hay que poner un elemento más cuando se trata del último que quieres considerar para tu código"
   ]
  },
  {
   "cell_type": "markdown",
   "metadata": {},
   "source": [
    "## Listas\n",
    "\n",
    "Las Listas son similares a las tuplas y la mayoría de comandos que aplicamos a las tuplas, son aplicables a ellas, tal cual el citar elementos complejos como tuplas dentro de las listas, o listas dentro de las listas, etc. La principal diferencia que hay entre una lista y una tupla es que sus valores son alterables, es decir podemos cambiarlos con ciertos comandos como append"
   ]
  },
  {
   "cell_type": "code",
   "execution_count": 59,
   "metadata": {},
   "outputs": [
    {
     "name": "stdout",
     "output_type": "stream",
     "text": [
      "[3, 4, 5, 6, 7]\n",
      "3\n",
      "[3, 4, 5, (2, 4, 3), [3, 2, 1]]\n",
      "3\n"
     ]
    }
   ],
   "source": [
    "Lista = [3, 4, 5, 6, 7]\n",
    "print(Lista)\n",
    "\n",
    "print (Lista[0])\n",
    "\n",
    "Lista = [3, 4, 5, (2, 4, 3), [3, 2, 1]]\n",
    "print (Lista)\n",
    "\n",
    "print(Lista [3][2])\n"
   ]
  },
  {
   "cell_type": "markdown",
   "metadata": {},
   "source": [
    "Con todo lo anterior sobre las tuplas, no debería haber ningún problema en inferir lo que se está haciendo o consultando en la celda de código anterior, la mayoría de comandos y funciones son idénticas a las tuplas, la principal diferencia radica cuando queremos cambiar la lista sin redefinirla, es decir, para el ejemplo anterior trabaje la lista como se trabajaría una tupla, observemos como podemos agregar elementos a una lista:"
   ]
  },
  {
   "cell_type": "code",
   "execution_count": 60,
   "metadata": {},
   "outputs": [
    {
     "name": "stdout",
     "output_type": "stream",
     "text": [
      "[3, 4, 5, (2, 4, 3), [3, 2, 1], 'Python', 'C++', 9, 10, 11, 1, 2, 3, 4, 5, 6, 7, 8]\n"
     ]
    }
   ],
   "source": [
    "Lista.extend(tupla_3)\n",
    "print(Lista)"
   ]
  },
  {
   "cell_type": "markdown",
   "metadata": {},
   "source": [
    "Observa como agregue los valores de tupla_3 que era la concatenación de tupla y tupla_2, sin necesidad de redifinir la variable Lista, ahora si quisiera podría consultar esos valores desde Lista."
   ]
  },
  {
   "cell_type": "code",
   "execution_count": 61,
   "metadata": {},
   "outputs": [
    {
     "name": "stdout",
     "output_type": "stream",
     "text": [
      "[3, 4, 5, (2, 4, 3), [3, 2, 1], 'Python', 'C++', 9, 10, 11, 1, 2, 3, 4, 5, 6, 7, 8, ('Python', 'C++', 9, 10, 11, 1, 2, 3, 4, 5, 6, 7, 8)]\n"
     ]
    }
   ],
   "source": [
    "Lista.append(tupla_3)\n",
    "print(Lista)"
   ]
  },
  {
   "cell_type": "markdown",
   "metadata": {},
   "source": [
    "Observa ahora como agregue la tupla en si misma, esa es la diferencia entre append y extend, append agrega un solo elemento, extend agrega todos los elementos involucrados en la instrucción que definamos. observemos otras funciones para las listas como del y como cambiar un valor dentro de la lista:"
   ]
  },
  {
   "cell_type": "code",
   "execution_count": 62,
   "metadata": {},
   "outputs": [
    {
     "name": "stdout",
     "output_type": "stream",
     "text": [
      "[3, 4, 5, (2, 4, 3), [3, 2, 1], 'Python', 'C++', 9, 10, 11, 1, 2, 3, 4, 5, 6, 7, 8, ('Python', 'C++', 9, 10, 11, 1, 2, 3, 4, 5, 6, 7, 8)]\n",
      "[10, 4, 5, (2, 4, 3), [3, 2, 1], 'Python', 'C++', 9, 10, 11, 1, 2, 3, 4, 5, 6, 7, 8, ('Python', 'C++', 9, 10, 11, 1, 2, 3, 4, 5, 6, 7, 8)]\n",
      "[10, 4, 5, (2, 4, 3), [3, 2, 1], 'Python', 'C++', 9, 10, 11, 1, 2, 3, 4, 5, 6, 7, 8]\n"
     ]
    }
   ],
   "source": [
    "#Para cambiar un valor de la lista \n",
    "print(Lista)\n",
    "Lista[0] = 10\n",
    "print (Lista)\n",
    "\n",
    "#Para borrar un elemento de la lista\n",
    "del(Lista[18])\n",
    "print(Lista)"
   ]
  },
  {
   "cell_type": "markdown",
   "metadata": {},
   "source": [
    "Observa como todo lo que querramos hacer con listas se basa en consultar los índices correctos, en el ejemplo anterior para cambiar el valor del primer elemento consultamos el indice 0 en Lista y lo cambiamos por 10 (antes era 3), luego eliminamos la tupla dado que podría ser redundante tener esos valores allí en forma de tupla si ya podemos consultarlos directamente.\n",
    "\n",
    "También podemos seprar strings dentro de una lista y convertirlos en elementos string individuales por ejemplo:"
   ]
  },
  {
   "cell_type": "code",
   "execution_count": 65,
   "metadata": {},
   "outputs": [
    {
     "name": "stdout",
     "output_type": "stream",
     "text": [
      "['Planta hornamental', 'A,B,C,D', 'Planta', 'hornamental', 'A', 'B', 'C', 'D']\n"
     ]
    }
   ],
   "source": [
    "Lista_2 = [\"Planta hornamental\", \"A,B,C,D\"]\n",
    "Lista_2.extend(Lista_2[0].split())\n",
    "Lista_2.extend(Lista_2[1].split(\",\"))\n",
    "print(Lista_2)"
   ]
  },
  {
   "cell_type": "markdown",
   "metadata": {},
   "source": [
    "Observa como utilice el comando split para dividir los strings dentro de las listas y agregarlos a la misma lista, seguro lograste identificar que en el primer split, Python automaticamente separa utilizando los espacios del string, pero en el segundo caso le di la instrucción de separar en cada coma (\",\"), puedes hacerlo con prácticamente cualquier caracter que estés utilizando para separar el texto.\n",
    "\n",
    "También nota como puedes trabajar de forma lógica aplicando el concepto de indices y variables, de esta forma puedes consultar código que ya escribiste siguiendo la lógica de python, en este caso variables, listas e índices, de tal manera que no necesitas reescribir cosas para operar con ellas (como los strings que dividimos)."
   ]
  },
  {
   "cell_type": "markdown",
   "metadata": {},
   "source": [
    "Ahora observemos algunas formas de referencia y copia de listas, recuerda que podemos nombrar una nueva lista en base a la primera, esto será una referencia directa o \"alias\" por lo que si cambiamos La Lista A, la Lista B también cambiaría, sim embargo, podemos clonar una lista creando una nueva lista completamente independiente también, observemos:"
   ]
  },
  {
   "cell_type": "code",
   "execution_count": 77,
   "metadata": {},
   "outputs": [
    {
     "name": "stdout",
     "output_type": "stream",
     "text": [
      "Esta es la lista con el alias:['Huevos', 'Aceite', 'Azucar']\n",
      "Observa que agregamos un elemento arroz en la primer lista['Huevos', 'Aceite', 'Azucar', 'Arroz']\n",
      "Observa como la segunda lista también agrega el elemento arroz ['Huevos', 'Aceite', 'Azucar', 'Arroz']\n",
      "Mira que ahora eliminamos el elemento arroz de la primer lista ['Huevos', 'Aceite', 'Azucar']\n",
      "Pero ahora la segunda lista es independiente y no eliminó el elemento arroz ['Huevos', 'Aceite', 'Azucar', 'Arroz']\n"
     ]
    }
   ],
   "source": [
    "#Usando la técnica de Alias no sirve para crear dos listas independientes.\n",
    "Lista_compras = [\"Huevos\", \"Aceite\", \"Azucar\"]\n",
    "Lista_comprado = Lista_compras\n",
    "\n",
    "print(f\"Esta es la lista con el alias:{Lista_comprado}\")\n",
    "\n",
    "Lista_compras.append(\"Arroz\")\n",
    "print(f'Observa que agregamos un elemento arroz en la primer lista{Lista_compras}')\n",
    "print(f'Observa como la segunda lista también agrega el elemento arroz {Lista_comprado}')\n",
    "\n",
    "#Redefinamos la Lista comprado como una copia independiente:\n",
    "Lista_comprado = Lista_compras[:]\n",
    "del(Lista_compras[3])\n",
    "print(f'Mira que ahora eliminamos el elemento arroz de la primer lista {Lista_compras}')\n",
    "print(f'Pero ahora la segunda lista es independiente y no eliminó el elemento arroz {Lista_comprado}')\n"
   ]
  },
  {
   "cell_type": "markdown",
   "metadata": {},
   "source": [
    "Recuerda que si quieres conocer más de cada elemento necesitas consultar a la biblioteca de python para ver más a fondo todos los comando de algún elemento que estés utilizando, ya sea lista, tupla, objeto, etc. utiliza el comando help siempre que quieras conocer más de algún elemento:"
   ]
  },
  {
   "cell_type": "code",
   "execution_count": 78,
   "metadata": {},
   "outputs": [
    {
     "name": "stdout",
     "output_type": "stream",
     "text": [
      "Help on list object:\n",
      "\n",
      "class list(object)\n",
      " |  list(iterable=(), /)\n",
      " |  \n",
      " |  Built-in mutable sequence.\n",
      " |  \n",
      " |  If no argument is given, the constructor creates a new empty list.\n",
      " |  The argument must be an iterable if specified.\n",
      " |  \n",
      " |  Methods defined here:\n",
      " |  \n",
      " |  __add__(self, value, /)\n",
      " |      Return self+value.\n",
      " |  \n",
      " |  __contains__(self, key, /)\n",
      " |      Return key in self.\n",
      " |  \n",
      " |  __delitem__(self, key, /)\n",
      " |      Delete self[key].\n",
      " |  \n",
      " |  __eq__(self, value, /)\n",
      " |      Return self==value.\n",
      " |  \n",
      " |  __ge__(self, value, /)\n",
      " |      Return self>=value.\n",
      " |  \n",
      " |  __getattribute__(self, name, /)\n",
      " |      Return getattr(self, name).\n",
      " |  \n",
      " |  __getitem__(...)\n",
      " |      x.__getitem__(y) <==> x[y]\n",
      " |  \n",
      " |  __gt__(self, value, /)\n",
      " |      Return self>value.\n",
      " |  \n",
      " |  __iadd__(self, value, /)\n",
      " |      Implement self+=value.\n",
      " |  \n",
      " |  __imul__(self, value, /)\n",
      " |      Implement self*=value.\n",
      " |  \n",
      " |  __init__(self, /, *args, **kwargs)\n",
      " |      Initialize self.  See help(type(self)) for accurate signature.\n",
      " |  \n",
      " |  __iter__(self, /)\n",
      " |      Implement iter(self).\n",
      " |  \n",
      " |  __le__(self, value, /)\n",
      " |      Return self<=value.\n",
      " |  \n",
      " |  __len__(self, /)\n",
      " |      Return len(self).\n",
      " |  \n",
      " |  __lt__(self, value, /)\n",
      " |      Return self<value.\n",
      " |  \n",
      " |  __mul__(self, value, /)\n",
      " |      Return self*value.\n",
      " |  \n",
      " |  __ne__(self, value, /)\n",
      " |      Return self!=value.\n",
      " |  \n",
      " |  __repr__(self, /)\n",
      " |      Return repr(self).\n",
      " |  \n",
      " |  __reversed__(self, /)\n",
      " |      Return a reverse iterator over the list.\n",
      " |  \n",
      " |  __rmul__(self, value, /)\n",
      " |      Return value*self.\n",
      " |  \n",
      " |  __setitem__(self, key, value, /)\n",
      " |      Set self[key] to value.\n",
      " |  \n",
      " |  __sizeof__(self, /)\n",
      " |      Return the size of the list in memory, in bytes.\n",
      " |  \n",
      " |  append(self, object, /)\n",
      " |      Append object to the end of the list.\n",
      " |  \n",
      " |  clear(self, /)\n",
      " |      Remove all items from list.\n",
      " |  \n",
      " |  copy(self, /)\n",
      " |      Return a shallow copy of the list.\n",
      " |  \n",
      " |  count(self, value, /)\n",
      " |      Return number of occurrences of value.\n",
      " |  \n",
      " |  extend(self, iterable, /)\n",
      " |      Extend list by appending elements from the iterable.\n",
      " |  \n",
      " |  index(self, value, start=0, stop=9223372036854775807, /)\n",
      " |      Return first index of value.\n",
      " |      \n",
      " |      Raises ValueError if the value is not present.\n",
      " |  \n",
      " |  insert(self, index, object, /)\n",
      " |      Insert object before index.\n",
      " |  \n",
      " |  pop(self, index=-1, /)\n",
      " |      Remove and return item at index (default last).\n",
      " |      \n",
      " |      Raises IndexError if list is empty or index is out of range.\n",
      " |  \n",
      " |  remove(self, value, /)\n",
      " |      Remove first occurrence of value.\n",
      " |      \n",
      " |      Raises ValueError if the value is not present.\n",
      " |  \n",
      " |  reverse(self, /)\n",
      " |      Reverse *IN PLACE*.\n",
      " |  \n",
      " |  sort(self, /, *, key=None, reverse=False)\n",
      " |      Sort the list in ascending order and return None.\n",
      " |      \n",
      " |      The sort is in-place (i.e. the list itself is modified) and stable (i.e. the\n",
      " |      order of two equal elements is maintained).\n",
      " |      \n",
      " |      If a key function is given, apply it once to each list item and sort them,\n",
      " |      ascending or descending, according to their function values.\n",
      " |      \n",
      " |      The reverse flag can be set to sort in descending order.\n",
      " |  \n",
      " |  ----------------------------------------------------------------------\n",
      " |  Class methods defined here:\n",
      " |  \n",
      " |  __class_getitem__(...) from builtins.type\n",
      " |      See PEP 585\n",
      " |  \n",
      " |  ----------------------------------------------------------------------\n",
      " |  Static methods defined here:\n",
      " |  \n",
      " |  __new__(*args, **kwargs) from builtins.type\n",
      " |      Create and return a new object.  See help(type) for accurate signature.\n",
      " |  \n",
      " |  ----------------------------------------------------------------------\n",
      " |  Data and other attributes defined here:\n",
      " |  \n",
      " |  __hash__ = None\n",
      "\n"
     ]
    }
   ],
   "source": [
    "help(Lista_comprado)"
   ]
  },
  {
   "cell_type": "markdown",
   "metadata": {},
   "source": [
    "Observa como las listas son objetos de Python que tienen una propia clase, con atributos propios y Python te da todos los detalles al respecto solo que en una celda de código de jupyter no hay espacio suficiente para mostrarlo todo, trata de crear un archivo .py en el editor de tu preferencia y trata de observar los comandos y características de alguna tupla o lista que tu crees, luego trata de ejecutar algunas de las funciones o comandos que Python te señala que son aplicables al objeto del cual consultaste ayuda, te recomiendo VScode puesto que es el programa que yo uso, recuerda descargar la versión más reciente de Python, en este caso 3.11.2 y empieza a practicar."
   ]
  }
 ],
 "metadata": {
  "kernelspec": {
   "display_name": "Python 3 (ipykernel)",
   "language": "python",
   "name": "python3"
  },
  "language_info": {
   "codemirror_mode": {
    "name": "ipython",
    "version": 3
   },
   "file_extension": ".py",
   "mimetype": "text/x-python",
   "name": "python",
   "nbconvert_exporter": "python",
   "pygments_lexer": "ipython3",
   "version": "3.11.2"
  },
  "vscode": {
   "interpreter": {
    "hash": "c5708dc5788d6fa496a178dc483a0560a0ee7674f01dbf8c815366ab0d476445"
   }
  }
 },
 "nbformat": 4,
 "nbformat_minor": 4
}
