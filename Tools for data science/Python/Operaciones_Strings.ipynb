{
 "cells": [
  {
   "cell_type": "markdown",
   "metadata": {},
   "source": [
    "# Curso Python\n",
    "## Operaciones de strings\n",
    "\n",
    "Los Strings los habíamos definido como una serie de carácteres con diferentes propiedades dentro del entorno de desarrollo Python, es importante que conozcamos sus características y comportamientos dado que mucha gente suele pensar en los strings como especies de tuplas o listas, dado que sus operaciones son muy similares y comparten compatibilidad con muchas funciones nativas de python."
   ]
  },
  {
   "cell_type": "code",
   "execution_count": 46,
   "metadata": {},
   "outputs": [
    {
     "name": "stdout",
     "output_type": "stream",
     "text": [
      "Curso de Python\n"
     ]
    }
   ],
   "source": [
    "string = 'Curso de Python'\n",
    "print(string)"
   ]
  },
  {
   "cell_type": "markdown",
   "metadata": {},
   "source": [
    "La primer propiedad o característica que debemos considerar del string es que funciona como un índice, es decir, podemos consultar sus carácteres individualmente, siguiendo el orden de los números que representan cada carácter, pero sin olvidar que siempre debemos empezar del cero, digamos que quiero aislar la letra P en mi String:"
   ]
  },
  {
   "cell_type": "code",
   "execution_count": 47,
   "metadata": {},
   "outputs": [
    {
     "data": {
      "text/plain": [
       "'P'"
      ]
     },
     "execution_count": 47,
     "metadata": {},
     "output_type": "execute_result"
    }
   ],
   "source": [
    "string[9]"
   ]
  },
  {
   "cell_type": "markdown",
   "metadata": {},
   "source": [
    "De esta forma podemos acceder a cada uno de los carácteres del String si nos hace falta, también podemos hacerlo en orden inverso, partiendo desde -1, digamos en este caso que quiero aislar la \"n\" (es decir, el ultimo caracter)"
   ]
  },
  {
   "cell_type": "code",
   "execution_count": 48,
   "metadata": {},
   "outputs": [
    {
     "data": {
      "text/plain": [
       "'n'"
      ]
     },
     "execution_count": 48,
     "metadata": {},
     "output_type": "execute_result"
    }
   ],
   "source": [
    "string[-1]"
   ]
  },
  {
   "cell_type": "markdown",
   "metadata": {},
   "source": [
    "Puedo llamar a distintos carácteres en orden para obtener palabras por ejemplo, quiero aislar la palabra \"curso\" de mi string, para esta ocasión tengo que definir el primer carácter (0) y el carácter posterior a la selección que quiero hacer (5)"
   ]
  },
  {
   "cell_type": "code",
   "execution_count": 49,
   "metadata": {},
   "outputs": [
    {
     "data": {
      "text/plain": [
       "'Curso'"
      ]
     },
     "execution_count": 49,
     "metadata": {},
     "output_type": "execute_result"
    }
   ],
   "source": [
    "string[0:5]"
   ]
  },
  {
   "cell_type": "markdown",
   "metadata": {},
   "source": [
    "También es posible realizar una selección en secuencia o pasos, también conocidos como \"stride\" veamos:"
   ]
  },
  {
   "cell_type": "code",
   "execution_count": 50,
   "metadata": {},
   "outputs": [
    {
     "data": {
      "text/plain": [
       "'Crod yhn'"
      ]
     },
     "execution_count": 50,
     "metadata": {},
     "output_type": "execute_result"
    }
   ],
   "source": [
    "string[::2]"
   ]
  },
  {
   "cell_type": "markdown",
   "metadata": {},
   "source": [
    "En este caso, lo que hice fue denotar con \"::\" que se trata de pasos y luego con el número 2 me encargué de indicar el intervalo para seleccionar cada carácter, que en este caso la orden textualmente si se tratara de una persona, sería: \"Desde el primer carácter selecciona cada 2 carácteres y aislalos\""
   ]
  },
  {
   "cell_type": "code",
   "execution_count": 51,
   "metadata": {},
   "outputs": [
    {
     "data": {
      "text/plain": [
       "'Cro'"
      ]
     },
     "execution_count": 51,
     "metadata": {},
     "output_type": "execute_result"
    }
   ],
   "source": [
    "string[0:5:2]"
   ]
  },
  {
   "cell_type": "markdown",
   "metadata": {},
   "source": [
    "Este también se trata de una selección en pasos, la diferencia es que ahora lo que le dije a la computadora es que aisle el primer carácter, luego tome uno cada dos caracteres con el carácter 5 como límite, ten en cuenta que el primer carácter que pongas en las operaciones que quieras realizar con el string, siempre se va a imprimir. Ahora, imagina que necesitamos saber las letras que contiene un enunciado, nombre, etc. "
   ]
  },
  {
   "cell_type": "code",
   "execution_count": 52,
   "metadata": {},
   "outputs": [
    {
     "data": {
      "text/plain": [
       "15"
      ]
     },
     "execution_count": 52,
     "metadata": {},
     "output_type": "execute_result"
    }
   ],
   "source": [
    "len(string)"
   ]
  },
  {
   "cell_type": "markdown",
   "metadata": {},
   "source": [
    "En este caso utilizamos la función \"len\" que es parte del paquete nativo de python, es decir, viene con Python sin necesidad de instalar ningún paquete adicional o biblioteca, esta es una de las funciones que los strings comparten con las tuplas y las listas, dado que es común usarla para por ejemplo calcular el valor \"n\" de una muestra en estadística.\n",
    "\n",
    "Los strings también puedes combinarlos o concatenar varios strings, dando como resultado un string diferente:"
   ]
  },
  {
   "cell_type": "code",
   "execution_count": 53,
   "metadata": {},
   "outputs": [
    {
     "data": {
      "text/plain": [
       "'Curso de Python desde cero'"
      ]
     },
     "execution_count": 53,
     "metadata": {},
     "output_type": "execute_result"
    }
   ],
   "source": [
    "string_2 = string + \" desde cero\"\n",
    "string_2"
   ]
  },
  {
   "cell_type": "markdown",
   "metadata": {},
   "source": [
    "Ojo, con string en este caso utilizamos el operador \"+\" para poder concatenar o combinar. Ten en cuenta que el resultado es un string diferente que en este caso lo almacené en una variable, pero si quieres redifinir el primer string puedes hacerlo como ejercicio en la siguiente celda de código"
   ]
  },
  {
   "cell_type": "code",
   "execution_count": null,
   "metadata": {},
   "outputs": [],
   "source": []
  },
  {
   "cell_type": "markdown",
   "metadata": {},
   "source": [
    "Otra similaridad entre las tuplas y los strings es que sus valores son inmutables, es decir, el string a menos que no se redefina, no podemos cambiar su valor con algún comando, pero podemos concatenar como vimos anteriormente, a su vez otra operación que podemos realizar es imprimir el string varias veces utilizando \"*\""
   ]
  },
  {
   "cell_type": "code",
   "execution_count": 54,
   "metadata": {},
   "outputs": [
    {
     "data": {
      "text/plain": [
       "'Curso de PythonCurso de PythonCurso de Python'"
      ]
     },
     "execution_count": 54,
     "metadata": {},
     "output_type": "execute_result"
    }
   ],
   "source": [
    "3*string"
   ]
  },
  {
   "cell_type": "markdown",
   "metadata": {},
   "source": [
    "Ahora, hemos visto como crear un String, pero imagina que necesitamos crear un string con distintas líneas, para este caso necesitamos ejecutar una secuencia de escape de la siguiente forma:"
   ]
  },
  {
   "cell_type": "code",
   "execution_count": 55,
   "metadata": {},
   "outputs": [
    {
     "name": "stdout",
     "output_type": "stream",
     "text": [
      "Curso de \n",
      " Python\n"
     ]
    }
   ],
   "source": [
    "print('Curso de \\n Python')"
   ]
  },
  {
   "cell_type": "markdown",
   "metadata": {},
   "source": [
    "Ves que aquí utilizamos la función print para imprimir el string que necesitamos, utilizando el parámetro de la función \"n\" delimitamos donde comienza la siguiente línea y lo ejecuta\n",
    "Nota: Las secuencias de escape son strings que son complicados de introducir en una variable, hay muchos parametros más que puedes utilizar dentro de la función print."
   ]
  },
  {
   "cell_type": "code",
   "execution_count": 56,
   "metadata": {},
   "outputs": [
    {
     "name": "stdout",
     "output_type": "stream",
     "text": [
      "Curso de \t Python\n",
      "Curso de \\ Python\n"
     ]
    }
   ],
   "source": [
    "#Para hacer un tab\n",
    "print(\"Curso de \\t Python\")\n",
    "\n",
    "#Para insertar la barra inclinada\n",
    "print('Curso de \\\\ Python')"
   ]
  },
  {
   "cell_type": "markdown",
   "metadata": {},
   "source": [
    "Como dijimos anteriormente los strings son una secuencia, por lo que comparten muchas funciones o métodos con las listas y tuplas, pero también tienen algunos métodos que solo aplican para ellos, por ejemplo si queremos convertir a mayúsculas, tenemos lo siguiente:"
   ]
  },
  {
   "cell_type": "code",
   "execution_count": 57,
   "metadata": {},
   "outputs": [
    {
     "data": {
      "text/plain": [
       "'CURSO DE PYTHON'"
      ]
     },
     "execution_count": 57,
     "metadata": {},
     "output_type": "execute_result"
    }
   ],
   "source": [
    "string_4 = string.upper()\n",
    "string_4"
   ]
  },
  {
   "cell_type": "markdown",
   "metadata": {},
   "source": [
    "Como dijimos los strings son inmutables, pero podemos reimprimirlos en un nuevo string si queremos reemplazar alguna parte del string:"
   ]
  },
  {
   "cell_type": "code",
   "execution_count": 58,
   "metadata": {},
   "outputs": [
    {
     "data": {
      "text/plain": [
       "'Curso de C++'"
      ]
     },
     "execution_count": 58,
     "metadata": {},
     "output_type": "execute_result"
    }
   ],
   "source": [
    "string_4 = string.replace(\"Python\", \"C++\")\n",
    "string_4"
   ]
  },
  {
   "cell_type": "markdown",
   "metadata": {},
   "source": [
    "Aqui lo que hicimos fue almacenar el nuevo string redefiniendo la variable string_4, ten en cuenta eso siempre que quieras cambiar algo dentro de un string, es decir (y repito), no puedes cambiar los valores de un string sin redefinirlo.\n",
    "\n",
    "En el curso en sí me encargo de adjuntar los principios del funcionamiento del lenguaje para que sepas moverte en el, pero quizás a futuro tenga un proyecto para hacer algo como un \"diccionario\" de python para que puedas consultar distintos métodos, funciones, clases, etc y pueda hacerle más facil a los nuevos el encontrar cosas compatibles con lo que quieran realizar. \n",
    "\n",
    "Pero por ahora eso es lo esencial de trabajar con los strings y algunas operaciones de cadenas, si me pusiera aqui a darte todas las funciones o métodos compatibles con strings o secuencias, probablemente se haría muy largo, queda en ti seguir buscando más información al respecto, quizás puedes practicar en la siguiente celda de comandos con algunos que encuentres y te interesen:"
   ]
  },
  {
   "cell_type": "code",
   "execution_count": null,
   "metadata": {},
   "outputs": [],
   "source": []
  }
 ],
 "metadata": {
  "kernelspec": {
   "display_name": "Python 3 (ipykernel)",
   "language": "python",
   "name": "python3"
  },
  "language_info": {
   "codemirror_mode": {
    "name": "ipython",
    "version": 3
   },
   "file_extension": ".py",
   "mimetype": "text/x-python",
   "name": "python",
   "nbconvert_exporter": "python",
   "pygments_lexer": "ipython3",
   "version": "3.11.2"
  },
  "vscode": {
   "interpreter": {
    "hash": "c5708dc5788d6fa496a178dc483a0560a0ee7674f01dbf8c815366ab0d476445"
   }
  }
 },
 "nbformat": 4,
 "nbformat_minor": 4
}
