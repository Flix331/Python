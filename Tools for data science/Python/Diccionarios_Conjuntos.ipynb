{
 "cells": [
  {
   "attachments": {},
   "cell_type": "markdown",
   "metadata": {},
   "source": [
    "# Curso Python"
   ]
  },
  {
   "attachments": {},
   "cell_type": "markdown",
   "metadata": {},
   "source": [
    "## Diccionarios y Conjuntos"
   ]
  },
  {
   "attachments": {},
   "cell_type": "markdown",
   "metadata": {},
   "source": [
    "### Diccionarios"
   ]
  },
  {
   "attachments": {},
   "cell_type": "markdown",
   "metadata": {},
   "source": [
    "Los diccionarios son estructuras de datos que almacenan hechos que querramos categorizar de alguna u otra manera, un diccionario sigue la misma estructura que los indices de las listas o las tuplas, solo que en vez de estar organizados por elementos, estan organizados por llaves (keys) que a su vez contienen otros elementos, las llaves pueden ser un conjunto de elementos sencillos o complejos (listas, tuplas, etc.)"
   ]
  },
  {
   "cell_type": "code",
   "execution_count": 48,
   "metadata": {},
   "outputs": [
    {
     "name": "stdout",
     "output_type": "stream",
     "text": [
      "10\n",
      "[1, 2, 3]\n"
     ]
    }
   ],
   "source": [
    "diccionario = {'Key1':10, 'Key2':\"Python\", 'Key3':[1, 2, 3], 'Key4':(4, 5, 6), 'Key5':3.6 }\n",
    "print(diccionario['Key1'])\n",
    "print(diccionario['Key3'])"
   ]
  },
  {
   "attachments": {},
   "cell_type": "markdown",
   "metadata": {},
   "source": [
    "Creo que has de haber notado la primer diferencia con las listas o tuplas. Si bien un diccionario funciona bajo el mismo principio de acceder a un índice y consultar datos a través de la sintaxis de python, no utiliza números enteros para hacer referencia a cada una de sus llaves, cada llave tiene un nombre asignado con un string y para consultar cada llave tenemos que llamar entre corchetes [] a la llave en cuestión, también podemos ejecutar otras secuencias en cadena como por ejemplo consultar un elemento de una lista dentro de una llave específica de un diccionario:"
   ]
  },
  {
   "cell_type": "code",
   "execution_count": 49,
   "metadata": {},
   "outputs": [
    {
     "name": "stdout",
     "output_type": "stream",
     "text": [
      "3\n"
     ]
    }
   ],
   "source": [
    "print(diccionario['Key3'][2])"
   ]
  },
  {
   "attachments": {},
   "cell_type": "markdown",
   "metadata": {},
   "source": [
    "Ve como la lógica de funcionamiento es la misma, primero \"desempaqueto\" la llave que me interesa y luego de la lista \"desempaqueto\" el valor que quiero, recuerda que la sintaxis es la misma que con las tuplas, solo que en lugar de utilizar indices numéricos utilizas llaves.\n",
    "\n",
    "Es importante recalcar que las llaves son valores indexados, es decir las llaves no pueden tener nombres repetidos, no hay dos llaves que se llamen igual. Sin embargo, los valores de cada llave pueden llevar valores repetidos, por ejemplo:"
   ]
  },
  {
   "cell_type": "code",
   "execution_count": 50,
   "metadata": {},
   "outputs": [
    {
     "name": "stdout",
     "output_type": "stream",
     "text": [
      "{'K1': 4, 'K2': 4}\n"
     ]
    }
   ],
   "source": [
    "diccionario_2 = {'K1': 4, 'K2':4}\n",
    "print(diccionario_2)"
   ]
  },
  {
   "attachments": {},
   "cell_type": "markdown",
   "metadata": {},
   "source": [
    "Pon atención en como la celda de código no tiene problemas para dar una salida (output) con valores repetidos para cada llave individualmente. Ahora, los diccionarios no son inmutables, es decir que puedes agregarle valores siempre que sea necesario, para esto solo tenemos que llamar al diccionario que nos interesa, entre corchetes específicamos el nombre de la llave y con el operador = establecemos lo que queremos agregar, recuerda que siendo un diccionario puede almacenar datos simples o complejos sin ningún problema:"
   ]
  },
  {
   "cell_type": "code",
   "execution_count": 51,
   "metadata": {},
   "outputs": [
    {
     "name": "stdout",
     "output_type": "stream",
     "text": [
      "{'K1': 4, 'K2': 4, 'K3': 2.5}\n"
     ]
    }
   ],
   "source": [
    "diccionario_2['K3'] = 2.5\n",
    "print(diccionario_2)"
   ]
  },
  {
   "attachments": {},
   "cell_type": "markdown",
   "metadata": {},
   "source": [
    "Algo interesante de los diccionarios es que podemos revisarlos generando booleanos (True/False) con el comando \"in\" de la siguiente manera:"
   ]
  },
  {
   "cell_type": "code",
   "execution_count": 52,
   "metadata": {},
   "outputs": [
    {
     "name": "stdout",
     "output_type": "stream",
     "text": [
      "True\n",
      "False\n"
     ]
    }
   ],
   "source": [
    "verifica_K3 = 'K3' in diccionario_2\n",
    "verifica_K4 = 'K4' in diccionario_2\n",
    "\n",
    "print(verifica_K3)\n",
    "print(verifica_K4)"
   ]
  },
  {
   "attachments": {},
   "cell_type": "markdown",
   "metadata": {},
   "source": [
    "Observa como las varieables creadas en la celda anterior son de tipo bool y al imprimirlas devuelven los valores True/False dependiendo de si existe o no la llave que consultamos, esto es especialmente util cuando se trabaja con bucles y otros procesos que veremos más adelante. Adicionalmente, podemos consultar todas las llaves del diccionario y todos los valores también con sus respectivos métodos:"
   ]
  },
  {
   "cell_type": "code",
   "execution_count": 53,
   "metadata": {},
   "outputs": [
    {
     "name": "stdout",
     "output_type": "stream",
     "text": [
      "dict_keys(['K1', 'K2', 'K3'])\n",
      "dict_values([4, 4, 2.5])\n"
     ]
    }
   ],
   "source": [
    "print(diccionario_2.keys())\n",
    "print(diccionario_2.values())"
   ]
  },
  {
   "attachments": {},
   "cell_type": "markdown",
   "metadata": {},
   "source": [
    "Por el momento eso sería lo importante de los diccionarios, hasta ahora deberías comprender como funcionan y puedes observar más funcionalidades de ellos utilizando el comando help como te enseñe en la lección anterior, solo recuerda que gran parte del conocimiento de programación es entender las secuencias lógicas y los principios de arquitectura o sintaxis, siempre queda en nosotros aprender más funciones, métodos, etc. es como ampliar tu vocabulario al aprender un idioma nuevo."
   ]
  },
  {
   "attachments": {},
   "cell_type": "markdown",
   "metadata": {},
   "source": [
    "### Conjuntos"
   ]
  },
  {
   "attachments": {},
   "cell_type": "markdown",
   "metadata": {},
   "source": [
    "Los conjuntos son otro tipo de colección de datos como las listas, tuplas o diccionarios, eso significa que pueden almacenar diferentes tipos de datos admitidos por el lenguaje Python dentro de ellos mismos, pero tienen una particularidad y es que los conjuntos no están ordenados, no registran o guardan valores a posiciones de los datos como los diccionarios, listas o tuplas y están constituidos por elementos únicos."
   ]
  },
  {
   "cell_type": "code",
   "execution_count": 54,
   "metadata": {},
   "outputs": [
    {
     "name": "stdout",
     "output_type": "stream",
     "text": [
      "{'K1': 4, 'K2': 4, 'K3': 2.5}\n",
      "{2.5, 4}\n"
     ]
    }
   ],
   "source": [
    "print(diccionario_2)\n",
    "conjunto = set(diccionario_2.values())\n",
    "print (conjunto)"
   ]
  },
  {
   "attachments": {},
   "cell_type": "markdown",
   "metadata": {},
   "source": [
    "Observa que podemos convertir otras colecciones de datos en información legible para ser almacenada en conjuntos, en este caso lo que hice fue utilizar lo que aprendimos de los diccionarios para tomar los valores del diccionario_2 y armar un conjunto que almacene sus valores, esto es posible porque diccionario_2 tiene llaves y valores simples, si lo hacemos con diccionario nos lanzará error si hay tipos complejos como tuplas o listas, pero aun así podemos consultar los valores de las listas almacenadas en los diccionarios para crear conjuntos por ejemplo:"
   ]
  },
  {
   "cell_type": "code",
   "execution_count": 55,
   "metadata": {},
   "outputs": [
    {
     "name": "stdout",
     "output_type": "stream",
     "text": [
      "{'Key1': 10, 'Key2': 'Python', 'Key3': [1, 2, 3], 'Key4': (4, 5, 6), 'Key5': 3.6}\n",
      "{4, 5, 6}\n"
     ]
    }
   ],
   "source": [
    "print(diccionario)\n",
    "conjunto_2 = set(diccionario['Key4'])\n",
    "print(conjunto_2)"
   ]
  },
  {
   "attachments": {},
   "cell_type": "markdown",
   "metadata": {},
   "source": [
    "Pon atención que en este caso, llamamos a la llave 4 del primer diccionario que creamos que se trata de una lista. Como no hay datos repetidos, el conjunto se crea con cada uno de esos valores, si por ejemplo la lista tuviera otra lista dentro, tendríamos que seguir la lógica del desempaquetado hasta llegar a referenciar lo que necesitemos, recuerda que no puedes referenciar una lista o tupla bajo esta premisa si se encuentra en una coleccion de datos de cualquier tipo, debido que al tener otra colección de datos dentro es una referencia ambigua y no tiene lógica, sin embargo puedes desempaquetar las tuplas y listas dentro de cualquier colección y traducirlo todo a una sola lista común utilizando comandos como append o extend o simplemente definiendo una nueva variable, por ejemplo:"
   ]
  },
  {
   "cell_type": "code",
   "execution_count": 58,
   "metadata": {},
   "outputs": [
    {
     "name": "stdout",
     "output_type": "stream",
     "text": [
      "[10, 'Python', 3.6, 1, 2, 3, 4, 5, 6]\n",
      "{1, 2, 3.6, 3, 4, 5, 6, 10, 'Python'}\n"
     ]
    }
   ],
   "source": [
    "lista_diccionario = []\n",
    "lista_diccionario.extend(diccionario.values())\n",
    "lista_conjunto = []\n",
    "lista_conjunto.extend(lista_diccionario)\n",
    "lista_conjunto.extend(lista_diccionario[2])\n",
    "lista_conjunto.extend(lista_diccionario[3])\n",
    "del(lista_conjunto[2], lista_conjunto[2])\n",
    "print(lista_conjunto)\n",
    "\n",
    "conjunto_3 = set(lista_conjunto)\n",
    "print(conjunto_3)"
   ]
  },
  {
   "attachments": {},
   "cell_type": "markdown",
   "metadata": {},
   "source": [
    "Ese sería un ejemplo muy elemental de como podrías realizar un desempaquetado de la información en una lista.\n",
    "\n",
    "Bien, como pudiste observar ahora tengo todos los datos almacenados en el diccionario clasificados en un conjunto a pesar de que estaban dentro de listas o tuplas. Los conjuntos también tienen campo para operaciones especiales, por ejemplo podemos crear un nuevo conjunto con los valores en común entre dos conjuntos, si recuerdas esto en matemáticas se hace con el operador \"&\", observa:"
   ]
  },
  {
   "cell_type": "code",
   "execution_count": 60,
   "metadata": {},
   "outputs": [
    {
     "name": "stdout",
     "output_type": "stream",
     "text": [
      "{4, 5, 6}\n"
     ]
    }
   ],
   "source": [
    "conjunto_4 = conjunto_3 & conjunto_2\n",
    "print(conjunto_4)"
   ]
  },
  {
   "attachments": {},
   "cell_type": "markdown",
   "metadata": {},
   "source": [
    "En este caso la celda de código nos está regresando únicamente los valores en los que ambos conjuntos coinciden, no olvides que todo este tipo de conceptos son abstracciones matemáticas, puedes hacer un diagrama de venn con ambos conjuntos y te darás cuenta que ambos tienen en común esos valores. También existe el comando \"union\" que es utilizado para unir dos conjuntos en uno solo:"
   ]
  },
  {
   "cell_type": "code",
   "execution_count": 61,
   "metadata": {},
   "outputs": [
    {
     "name": "stdout",
     "output_type": "stream",
     "text": [
      "{1, 2, 3.6, 3, 4, 5, 6, 2.5, 10, 'Python'}\n"
     ]
    }
   ],
   "source": [
    "conjunto_5 = conjunto_3.union(conjunto)\n",
    "print(conjunto_5)"
   ]
  },
  {
   "attachments": {},
   "cell_type": "markdown",
   "metadata": {},
   "source": [
    "En este caso con la función union almacenamos el resultado de la union de conjunto_3 y conjunto en otro conjunto llamado conjunto_5, finalmente si queremos confirmar si un conjunto es un subconjunto de otro, podemos utilizar la función issubset para asegurarnos:"
   ]
  },
  {
   "cell_type": "code",
   "execution_count": 62,
   "metadata": {},
   "outputs": [
    {
     "data": {
      "text/plain": [
       "False"
      ]
     },
     "execution_count": 62,
     "metadata": {},
     "output_type": "execute_result"
    }
   ],
   "source": [
    "conjunto_3.issubset(conjunto_4)"
   ]
  },
  {
   "attachments": {},
   "cell_type": "markdown",
   "metadata": {},
   "source": [
    "En este caso podemos observar que el conjunto_3 no es un subconjunto del conjunto_4, trata de repetir las celdas de los conjuntos utilizando diagramas de venn, de tal manera que puedas visualizar la información y como la hemos segmentado a nuestra conveniencia en conjuntos a partir de colecciones de datos, estos conceptos son especialmente útiles para conceptos como el análisis de datos o limpieza de datos, no te olvides que siempre puedes consultar más información en python nativamente con el comando help()"
   ]
  }
 ],
 "metadata": {
  "kernelspec": {
   "display_name": "Python 3",
   "language": "python",
   "name": "python3"
  },
  "language_info": {
   "codemirror_mode": {
    "name": "ipython",
    "version": 3
   },
   "file_extension": ".py",
   "mimetype": "text/x-python",
   "name": "python",
   "nbconvert_exporter": "python",
   "pygments_lexer": "ipython3",
   "version": "3.11.2"
  },
  "orig_nbformat": 4
 },
 "nbformat": 4,
 "nbformat_minor": 2
}
