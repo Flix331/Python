{
 "cells": [
  {
   "attachments": {},
   "cell_type": "markdown",
   "metadata": {},
   "source": [
    "# Curso Python"
   ]
  },
  {
   "attachments": {},
   "cell_type": "markdown",
   "metadata": {},
   "source": [
    "## Condiciones y Ramificaciones"
   ]
  },
  {
   "attachments": {},
   "cell_type": "markdown",
   "metadata": {},
   "source": [
    "### Condiciones"
   ]
  },
  {
   "attachments": {},
   "cell_type": "markdown",
   "metadata": {},
   "source": [
    "Las condiciones son expresiones que generan booleanos a través de comparar datos o valores por medio de operadores especiales que llamaremos declaraciones. Las declaraciones no son más que hacer expresa ciertos criterios específicos y determinar si (generalmente) alguna variable la cumple o no, regresando de esta forma un valor True/False."
   ]
  },
  {
   "attachments": {},
   "cell_type": "markdown",
   "metadata": {},
   "source": [
    "#### Declaraciones"
   ]
  },
  {
   "attachments": {},
   "cell_type": "markdown",
   "metadata": {},
   "source": [
    "Dos valores pueden tener cierta relación entre ellos de una u otra forma, las declaraciones son las expresiones que utilizaremos para hacer efectivas estas relaciones:"
   ]
  },
  {
   "attachments": {},
   "cell_type": "markdown",
   "metadata": {},
   "source": [
    "* Igual a: ==\n",
    "* Diferente de: !=\n",
    "* Mayor que: >\n",
    "* Menor que: <\n",
    "* Mayor o igual: >=\n",
    "* Menor o igual: <="
   ]
  },
  {
   "attachments": {},
   "cell_type": "markdown",
   "metadata": {},
   "source": [
    "Como puedes observar, los conceptos de relacionar dos valores son operadores lógicos relacionados a las matemáticas, especificamente ecuaciones e inecuaciones, es un concepto muy importante de entender para entrar en materia de las ramificaciones que veremos un poco más adelante. Observa la siguiente celda de código para comprender un poco mejor algunas condiciones:"
   ]
  },
  {
   "cell_type": "code",
   "execution_count": null,
   "metadata": {},
   "outputs": [],
   "source": [
    "i = 2\n",
    "i > 2"
   ]
  },
  {
   "attachments": {},
   "cell_type": "markdown",
   "metadata": {},
   "source": [
    "Observa como al expresar la declaración nos devuelve un booleano, este booleano, ya sabemos que podemos retornarlo en alguna variable o utilizarlo directamente en otras expresiones más avanzadas. No hay mucha complicación por parte de las declaraciones de condiciones, son las operaciones lógicas de toda la vida."
   ]
  },
  {
   "cell_type": "code",
   "execution_count": null,
   "metadata": {},
   "outputs": [],
   "source": [
    "print(i != 3)\n",
    "print(i <= 1)\n",
    "print(i >= 1)"
   ]
  },
  {
   "attachments": {},
   "cell_type": "markdown",
   "metadata": {},
   "source": [
    "Pon atención en como la declaración puede ir tranquilamente dentro de una función o un método, detente a observar porque cada una de las expresiones retorna un valor True o False al imprimirlo, observa bien la lista de declaradores que te dí y trata de leer el código por tu cuenta, no es nada dificil, solamente ten en cuenta el valor que le dimos a \"i\" (2)."
   ]
  },
  {
   "attachments": {},
   "cell_type": "markdown",
   "metadata": {},
   "source": [
    "#### Ramificaciones."
   ]
  },
  {
   "attachments": {},
   "cell_type": "markdown",
   "metadata": {},
   "source": [
    "Las ramificaciones son algo así como oraciones que utilizan las condiciones que declaremos para decidir realizar una acción u otra, es por eso que se llaman ramificaciones, ya que proveen la elección de una parte del código o de otra:"
   ]
  },
  {
   "cell_type": "code",
   "execution_count": null,
   "metadata": {},
   "outputs": [],
   "source": [
    "compras = 20\n",
    "\n",
    "if compras > 10:\n",
    "    print(\"sobrecompra\")\n"
   ]
  },
  {
   "attachments": {},
   "cell_type": "markdown",
   "metadata": {},
   "source": [
    "Observa como este pequeño ejemplo nos agrega la frase \"sobre\" si el valor de compras es mayor de 10, traduciendose como \"sobrecompra\" y si es 10 o menor, no nos regresará nada, trata de editar el valor de compras en la celda de código para que puedas observarlo tu mismo. Recuerda también que al momento de crear una ramificación el código que escribamos \"tabulado\" a la expresión if, se ejecutará si el valor de nuestra declaración es verdadero, si escribimos código fuera de la ramificación, este se ejecutará independientemente si el valor de la expresión es falso o no:"
   ]
  },
  {
   "cell_type": "code",
   "execution_count": 11,
   "metadata": {},
   "outputs": [
    {
     "name": "stdout",
     "output_type": "stream",
     "text": [
      "sobrecompra\n",
      "20\n"
     ]
    }
   ],
   "source": [
    "compras = 20\n",
    "\n",
    "if compras > 10:\n",
    "    print(\"sobrecompra\")\n",
    "    \n",
    "print(compras)"
   ]
  },
  {
   "attachments": {},
   "cell_type": "markdown",
   "metadata": {},
   "source": [
    "En este caso nuestro elemental código nos devuelve el valor de las compras y si superan cierto valor (en este caso 10) nos dirá si se está sobrecomprando o no, luego nos imprimirá el valor de las compras. Es muy poco común realizar ramificaciones simples únicamente para el valor verdadero (o falso), muchas veces lo que buscamos es dividir las decisiones de nuestro código de acuerdo si una decisión es falsa o verdadera, para eso utilizaremos else:"
   ]
  },
  {
   "cell_type": "code",
   "execution_count": 14,
   "metadata": {},
   "outputs": [
    {
     "name": "stdout",
     "output_type": "stream",
     "text": [
      "sobrecompra\n",
      "20\n"
     ]
    }
   ],
   "source": [
    "compras = 20\n",
    "\n",
    "if compras > 10:\n",
    "    print(\"sobrecompra\")\n",
    "else:\n",
    "    print(\"Compra normal\")\n",
    "    \n",
    "print(compras)"
   ]
  },
  {
   "attachments": {},
   "cell_type": "markdown",
   "metadata": {},
   "source": [
    "Pon atención en como está escrito el código, observa que if y else están en la línea principal de código y que sus respectivas validaciones reproducen un código anidado (tabulado) dentro de ellos mismos. Cambia el valor de compras a 10 y observa como se comporta el código. Recuerda que las ramificaciones no están limitadas a ser solo ellas, es decir puedes anidar validaciones dentro de validaciones pero siempre tienes que seguir la secuencia lógica de if y else según se requiera."
   ]
  },
  {
   "attachments": {},
   "cell_type": "markdown",
   "metadata": {},
   "source": [
    "Recuerdas que te dije que en ocasiones necesitamos revisar si un valor es falso? pues, hay operadores especiales que podemos utilizar en nuestras ramificaciones que comprueban valores booleanos, entre ellas tenemos:"
   ]
  },
  {
   "attachments": {},
   "cell_type": "markdown",
   "metadata": {},
   "source": [
    "* and\n",
    "* or\n",
    "* not"
   ]
  },
  {
   "attachments": {},
   "cell_type": "markdown",
   "metadata": {},
   "source": [
    "And es el valor lógico \"Y\" que regresa un valor True solamente cuando ambas condiciones son verdaderas, or \"O\" es todo lo opuesto, regresa valor true cuando al menos uno de los valores es verdadero y el operador not comprueba si una condición es falsa observemos:"
   ]
  },
  {
   "cell_type": "code",
   "execution_count": 17,
   "metadata": {},
   "outputs": [
    {
     "name": "stdout",
     "output_type": "stream",
     "text": [
      "compra normal\n"
     ]
    }
   ],
   "source": [
    "compras = 20\n",
    "ventas = 50\n",
    "precio = \"alto\"\n",
    "if compras > ventas//2 and precio == \"alto\":\n",
    "    print(\"sobrecompra\")\n",
    "else:\n",
    "    print(\"compra normal\")"
   ]
  },
  {
   "attachments": {},
   "cell_type": "markdown",
   "metadata": {},
   "source": [
    "Observa como la secuencia lógica se comporta, podemos traducir el codigo de la siguiente manera:"
   ]
  },
  {
   "attachments": {},
   "cell_type": "markdown",
   "metadata": {},
   "source": [
    "*Si las compras son mayor que la mitad de ventas y el precio es alto, entonces imprime sobrecompra, de otro modo imprime compra normal*"
   ]
  },
  {
   "attachments": {},
   "cell_type": "markdown",
   "metadata": {},
   "source": [
    "Esa es la forma correcta de plantearse una expresión de este tipo, siempre hazte la pregunta de que es lo que quieres comprobar, bajo que parámetros y que resultados quieres obtener bajo una situación u otra, esa es la importancia de las ramificaciones, ahora intenta cambiar el valor de ventas para que la declaración sea verdadera, de tal modo que te imprima sobrecompra."
   ]
  },
  {
   "attachments": {},
   "cell_type": "markdown",
   "metadata": {},
   "source": [
    "Puedes intentar hacer un código de una condición que quieras comprobar sobre alguna variable de tu preferencia. Ejemplo de una pregunta: \"Si x es mayor que y que z entonces z se suma a y, sino x se suma a y \" recuerda que si quieres plantearla desde el valor falso puedes hacerlo así:"
   ]
  },
  {
   "cell_type": "code",
   "execution_count": 18,
   "metadata": {},
   "outputs": [
    {
     "name": "stdout",
     "output_type": "stream",
     "text": [
      "compra normal\n"
     ]
    }
   ],
   "source": [
    "compras = 20\n",
    "ventas = 50\n",
    "precio = \"alto\"\n",
    "if not compras > ventas//2 and precio == \"alto\":\n",
    "    print(\"compra normal\")\n",
    "else:\n",
    "    print(\"sobrecompra\")"
   ]
  },
  {
   "attachments": {},
   "cell_type": "markdown",
   "metadata": {},
   "source": [
    "Observa como if va seguido del operador \"not\", esto lo que hará es comprobar si el valor es falso directamente, else siempre funciona de la misma manera en ese aspecto, ya que basicamente significa \"sino\" o \"de otro modo\"."
   ]
  }
 ],
 "metadata": {
  "kernelspec": {
   "display_name": "Python 3",
   "language": "python",
   "name": "python3"
  },
  "language_info": {
   "codemirror_mode": {
    "name": "ipython",
    "version": 3
   },
   "file_extension": ".py",
   "mimetype": "text/x-python",
   "name": "python",
   "nbconvert_exporter": "python",
   "pygments_lexer": "ipython3",
   "version": "3.11.2"
  },
  "orig_nbformat": 4
 },
 "nbformat": 4,
 "nbformat_minor": 2
}
