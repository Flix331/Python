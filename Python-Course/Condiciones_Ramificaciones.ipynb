{
 "cells": [
  {
   "attachments": {},
   "cell_type": "markdown",
   "metadata": {},
   "source": [
    "# Curso Python"
   ]
  },
  {
   "attachments": {},
   "cell_type": "markdown",
   "metadata": {},
   "source": [
    "## Condiciones y Ramificaciones"
   ]
  },
  {
   "attachments": {},
   "cell_type": "markdown",
   "metadata": {},
   "source": [
    "### Condiciones"
   ]
  },
  {
   "attachments": {},
   "cell_type": "markdown",
   "metadata": {},
   "source": [
    "Las condiciones son expresiones que generan booleanos a través de comparar datos o valores por medio de operadores especiales que llamaremos declaraciones. Las declaraciones no son más que hacer expresa ciertos criterios específicos y determinar si (generalmente) alguna variable la cumple o no, regresando de esta forma un valor True/False."
   ]
  },
  {
   "attachments": {},
   "cell_type": "markdown",
   "metadata": {},
   "source": [
    "#### Declaraciones"
   ]
  },
  {
   "attachments": {},
   "cell_type": "markdown",
   "metadata": {},
   "source": [
    "Dos valores pueden tener cierta relación entre ellos de una u otra forma, las declaraciones son las expresiones que utilizaremos para hacer efectivas estas relaciones:"
   ]
  },
  {
   "attachments": {},
   "cell_type": "markdown",
   "metadata": {},
   "source": [
    "* Igual a: ==\n",
    "* Diferente de: !=\n",
    "* Mayor que: >\n",
    "* Menor que: <\n",
    "* Mayor o igual: >=\n",
    "* Menor o igual: <="
   ]
  },
  {
   "attachments": {},
   "cell_type": "markdown",
   "metadata": {},
   "source": [
    "Como puedes observar, los conceptos de relacionar dos valores son operadores lógicos relacionados a las matemáticas, especificamente ecuaciones e inecuaciones, es un concepto muy importante de entender "
   ]
  }
 ],
 "metadata": {
  "language_info": {
   "name": "python"
  },
  "orig_nbformat": 4
 },
 "nbformat": 4,
 "nbformat_minor": 2
}
