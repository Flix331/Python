{
 "cells": [
  {
   "attachments": {},
   "cell_type": "markdown",
   "metadata": {},
   "source": [
    "# Curso Python"
   ]
  },
  {
   "attachments": {},
   "cell_type": "markdown",
   "metadata": {},
   "source": [
    "## Funciones y Clases"
   ]
  },
  {
   "attachments": {},
   "cell_type": "markdown",
   "metadata": {},
   "source": [
    "### Funciones"
   ]
  },
  {
   "attachments": {},
   "cell_type": "markdown",
   "metadata": {},
   "source": [
    "Las funciones son parte de nuestros códigos que ejecutan un proceso y regresan uno o más valores que pueden ser almacenados en variables una vez completado el proceso que describamos en el código anidado dentro de la función, por ejemplo, podemos crear una función que haga la suma de dos números de la siguiente manera:"
   ]
  },
  {
   "cell_type": "code",
   "execution_count": 39,
   "metadata": {},
   "outputs": [],
   "source": [
    "def suma(sumando, sumando2):\n",
    "    x = sumando\n",
    "    y = sumando2\n",
    "    suma = x + y\n",
    "    return suma"
   ]
  },
  {
   "attachments": {},
   "cell_type": "markdown",
   "metadata": {},
   "source": [
    "Observa como utilizamos \"def\" para delimitar el codigo que será anidado dentro de la función, luego se sigue con el nombre de la función y entre paréntesis los argumentos que hay que introducir dentro de la función, más adelante en el código podemos ya unicamente llamar a la función para realizar la suma que querramos:"
   ]
  },
  {
   "cell_type": "code",
   "execution_count": 40,
   "metadata": {},
   "outputs": [
    {
     "data": {
      "text/plain": [
       "8"
      ]
     },
     "execution_count": 40,
     "metadata": {},
     "output_type": "execute_result"
    }
   ],
   "source": [
    "suma(3, 5)"
   ]
  },
  {
   "attachments": {},
   "cell_type": "markdown",
   "metadata": {},
   "source": [
    "Como puedes ver, las funciones se utilizan para ahorrar espacio de código, es una buena práctica realizar más de un archivo de código para cada cosa que necesites realizar en tu proyecto, por ejemplo un archivo para la interfaz gráfica y otro para definir todas las funciones y clases que necesites, más adelante verás como guardar un archivo para ser reconocido por python como una biblioteca importable en tu proyecto. Es sencillo ver las funciones como máquinas que reciben unos valores y realizan un proceso para dar una salida (en nuestro ejemplo introduces dos sumandos y te devuelve la suma.), para almacenar los valores que regrese en variables solamente tenemos que observar la parte que dice \"return\" en el código de la función y en ese orden nos regresará los valores que querramos por ejemplo:"
   ]
  },
  {
   "cell_type": "code",
   "execution_count": 41,
   "metadata": {},
   "outputs": [
    {
     "name": "stdout",
     "output_type": "stream",
     "text": [
      "8\n"
     ]
    }
   ],
   "source": [
    "resultado = suma(3, 5)\n",
    "print(resultado)"
   ]
  },
  {
   "attachments": {},
   "cell_type": "markdown",
   "metadata": {},
   "source": [
    "Observa como el resultado de la suma queda almacenado en la variable \"resultado\" y ahora sencillamente podemos consultar el resultado de esa suma específica llamando a la variable \"resultado\", recuerda que si tenemos variables que cumplan con los requisitos para realizar las operaciones podemos llamarlas dentro de la función:"
   ]
  },
  {
   "cell_type": "code",
   "execution_count": 42,
   "metadata": {},
   "outputs": [
    {
     "name": "stdout",
     "output_type": "stream",
     "text": [
      "59\n"
     ]
    }
   ],
   "source": [
    "sumando1 = 29\n",
    "sumando2 = 30\n",
    "resultado_2 = suma(sumando1, sumando2)\n",
    "print(resultado_2)"
   ]
  },
  {
   "attachments": {},
   "cell_type": "markdown",
   "metadata": {},
   "source": [
    "Muy bien, recuerda que en Python el operador \"+\" además de representar una suma, representa una concatenación, por lo que si lo desearamos podríamos concatenar listas o strings llamando a la función suma:"
   ]
  },
  {
   "cell_type": "code",
   "execution_count": 43,
   "metadata": {},
   "outputs": [
    {
     "data": {
      "text/plain": [
       "'JuegoFácil'"
      ]
     },
     "execution_count": 43,
     "metadata": {},
     "output_type": "execute_result"
    }
   ],
   "source": [
    "suma(\"Juego\", \"Fácil\")"
   ]
  },
  {
   "attachments": {},
   "cell_type": "markdown",
   "metadata": {},
   "source": [
    "Dado que los strings son secuencias se comportan como listas (ya deberías tener esto en mente), por lo que es inferible que puedes realizarlo con un par de listas, inténtalo creando dos listas cortas en la siguiente celda de código, luego trata de ejecutarlo y observa el resultado, recuerda que ahora solo tienes que llamar a la función suma:"
   ]
  },
  {
   "cell_type": "code",
   "execution_count": null,
   "metadata": {},
   "outputs": [],
   "source": []
  },
  {
   "attachments": {},
   "cell_type": "markdown",
   "metadata": {},
   "source": [
    "### Clases"
   ]
  },
  {
   "attachments": {},
   "cell_type": "markdown",
   "metadata": {},
   "source": [
    "Las clases están enfocadas a la programación dedicada a objetos, básicamente se utilizan para definir objetos específicos con sus parámetros específicos, métodos, entre otras características. En Python tenemos varias clases que vienen por defecto, las más esenciales son los tipos de datos que observaste en el primer notebook de este curso (int, str, float), los numeros \"int\" por ejemplo, tienen la característica de ser números enteros sin decimales, los \"str\" son secuencias de caracteres y los \"float\" son números reales. Tu puedes crear objetos a tu conveniencia para almacenar información sin necesidad de crear infinitas variables veamos el ejemplo más específico:\n",
    "\n",
    "Imagina que quiero almacenar información de árboles bonsai:"
   ]
  },
  {
   "cell_type": "code",
   "execution_count": 44,
   "metadata": {},
   "outputs": [],
   "source": [
    "class Bonsai:\n",
    "    def __init__(self, especie=str, conifera=bool, altura=float, edad=int):\n",
    "        self.especie = especie\n",
    "        self.conifera = conifera\n",
    "        self.altura = altura \n",
    "        self.edad = edad"
   ]
  },
  {
   "attachments": {},
   "cell_type": "markdown",
   "metadata": {},
   "source": [
    "Perfecto ahora puedo crear objetos de la clase \"bonsai\" que tenga los parámetros especie, que verifique si el arbolito es una conifera o no, que registre la altura del arbolito y su edad, recuerda que los valores que tienen un valor predeterminado (en este caso conifera, altura y edad) tienen que ir de último en los parámetros del método __init__, adicionalmente recuerda que init es un método que define los parámetros del objeto, siempre tiene que ir al comienzo para asegurarnos de que nuestros objetos puedan almacenar ciertos valores como características sin necesidad de crear múltiples variables anidadas en el código de la clase o los métodos."
   ]
  },
  {
   "attachments": {},
   "cell_type": "markdown",
   "metadata": {},
   "source": [
    "#### Métodos"
   ]
  },
  {
   "attachments": {},
   "cell_type": "markdown",
   "metadata": {},
   "source": [
    "Los métodos a términos generales podemos definirlos como funciones dentro de las clases que regresan valores utilizando los parámetros del objeto, antes de crear un método para la clase bonsai, creemos un \"Bonsai\":"
   ]
  },
  {
   "cell_type": "code",
   "execution_count": 45,
   "metadata": {},
   "outputs": [],
   "source": [
    "arbol_1 = Bonsai(\"Pino Negro\", True, 30, 4)\n"
   ]
  },
  {
   "attachments": {},
   "cell_type": "markdown",
   "metadata": {},
   "source": [
    "Ok, el código anterior lo podemos traducir de la siguiente manera en lenguaje convencional:"
   ]
  },
  {
   "attachments": {},
   "cell_type": "markdown",
   "metadata": {},
   "source": [
    "*Arbol_1 es un bonsai de especie Pino Negro. ¿Es conífera? Si. Tiene una altura de 30 centimetros y una edad de 4 años*"
   ]
  },
  {
   "attachments": {},
   "cell_type": "markdown",
   "metadata": {},
   "source": [
    "Muy bien, imagina ahora que yo no programé a arbol_1, pero lo tengo presente en mi código. ¿Podría consultar sus atríbutos? La respuesta es sí:"
   ]
  },
  {
   "cell_type": "code",
   "execution_count": 46,
   "metadata": {},
   "outputs": [
    {
     "name": "stdout",
     "output_type": "stream",
     "text": [
      "Help on Bonsai in module __main__ object:\n",
      "\n",
      "class Bonsai(builtins.object)\n",
      " |  Bonsai(especie=<class 'str'>, conifera=<class 'bool'>, altura=<class 'float'>, edad=<class 'int'>)\n",
      " |  \n",
      " |  Methods defined here:\n",
      " |  \n",
      " |  __init__(self, especie=<class 'str'>, conifera=<class 'bool'>, altura=<class 'float'>, edad=<class 'int'>)\n",
      " |      Initialize self.  See help(type(self)) for accurate signature.\n",
      " |  \n",
      " |  ----------------------------------------------------------------------\n",
      " |  Data descriptors defined here:\n",
      " |  \n",
      " |  __dict__\n",
      " |      dictionary for instance variables (if defined)\n",
      " |  \n",
      " |  __weakref__\n",
      " |      list of weak references to the object (if defined)\n",
      "\n"
     ]
    }
   ],
   "source": [
    "help(arbol_1)"
   ]
  },
  {
   "attachments": {},
   "cell_type": "markdown",
   "metadata": {},
   "source": [
    "Observa que el correr el comando help, nos regresa los parámetros del Bonsai (especie, conifera, altura, edad) y una lista con los métodos definidos que pueden aplicarse al arbol que estamos analizando (en este caso ninguno.). Creemos otro objeto de clase bonsai, esta vez así:"
   ]
  },
  {
   "cell_type": "code",
   "execution_count": 47,
   "metadata": {},
   "outputs": [],
   "source": [
    "arbol_2 = Bonsai(\"Ficus Retusa\", False, 15, 5)"
   ]
  },
  {
   "attachments": {},
   "cell_type": "markdown",
   "metadata": {},
   "source": [
    "Pon especial atención que al crear clases de objetos no necesito hacer infinitas variables para almacenar datos importantes como en este caso la altura, la especie y la edad, o la condición de si son coníferas o no. Ahora creemos un método que verifique si un bonsai es conífera o no y nos diga eso en una jerga del bonsai (Shouhaku)."
   ]
  },
  {
   "cell_type": "code",
   "execution_count": 48,
   "metadata": {},
   "outputs": [],
   "source": [
    "class Bonsai:\n",
    "    def __init__(self, especie=str, conifera=bool, altura=float, edad=int):\n",
    "        self.especie = especie\n",
    "        self.conifera = conifera\n",
    "        self.altura = altura \n",
    "        self.edad = edad\n",
    "    def shouhaku(self):\n",
    "        if self.conifera == True:\n",
    "            print(f'{self.especie} es Shouhaku Bonsai')\n",
    "        else:\n",
    "            print(f'{self.especie} no es Shouhaku Bonsai')"
   ]
  },
  {
   "attachments": {},
   "cell_type": "markdown",
   "metadata": {},
   "source": [
    "Ahora nuestros objetos tienen un método definido para verificar si son bonsai de tipo Shouhaku o no, lo podríamos llamar de la siguiente forma consultando el método tal cual hacíamos con diferentes funciones de la lista (asumo que si investigaste métodos por tu cuenta tal cual se te recomendaba en cada notebook, ya estarás familiarizado con la estructura):"
   ]
  },
  {
   "cell_type": "code",
   "execution_count": 50,
   "metadata": {},
   "outputs": [
    {
     "name": "stdout",
     "output_type": "stream",
     "text": [
      "Pino Negro es Shouhaku Bonsai\n",
      "Ficus Retusa no es Shouhaku Bonsai\n"
     ]
    }
   ],
   "source": [
    "Bonsai.shouhaku(arbol_1)\n",
    "Bonsai.shouhaku(arbol_2)"
   ]
  },
  {
   "attachments": {},
   "cell_type": "markdown",
   "metadata": {},
   "source": [
    "Presta atención a la secuencia lógica, en este caso recuerda que definimos como parámetro del método \"shouhaku\" el valor \"self\", que es una instancia de cualquier objeto que se esté creando de la clase (en este caso hace instancia de cualquier objeto de tipo \"Bonsai\") de tal manera que podemos tomar cualquiera de sus atributos para realizar operaciones que nos convengan."
   ]
  },
  {
   "attachments": {},
   "cell_type": "markdown",
   "metadata": {},
   "source": [
    "En Conclusión, las funciones son partes del código que podemos utilizar para realizar operaciones con variables globales y los métodos son funciones que realizan operaciones con variables anidadas en clases, ten siempre en cuenta que no puedes consultar un método sin llamar a la clase primero. También recuerda que la programación dedicada a objetos es muy importante para descartar el uso de miles de variables y hacer los códigos más eficientes al igual que con el uso de las funciones, solo imagina que tuvieramos que definir la altura de cada bonsai individualmente como por ejemplo \"altura_arbol_1\" tendríamos líneas interminables de código para miles de variables que pueden almacenarse como parámetros de objetos. También ten en cuenta que tanto en funciones como en clases puedes utilizar bucles, listas, diccionarios, tuplas, etc. según lo veas necesario para las operaciones que quieras realizar, a partir de aquí solamente tienes que seguir la lógica de consultas y trabajos con cada uno de estos elementos, puedes consultar algunos de los archivos en la carpeta examples Python, de tal manera que trates de identificar, métodos, bucles y otros elementos que viste en los notebooks anteriores."
   ]
  }
 ],
 "metadata": {
  "kernelspec": {
   "display_name": "Python 3",
   "language": "python",
   "name": "python3"
  },
  "language_info": {
   "codemirror_mode": {
    "name": "ipython",
    "version": 3
   },
   "file_extension": ".py",
   "mimetype": "text/x-python",
   "name": "python",
   "nbconvert_exporter": "python",
   "pygments_lexer": "ipython3",
   "version": "3.11.2"
  },
  "orig_nbformat": 4
 },
 "nbformat": 4,
 "nbformat_minor": 2
}
