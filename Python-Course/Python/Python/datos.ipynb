{
 "cells": [
  {
   "attachments": {},
   "cell_type": "markdown",
   "metadata": {},
   "source": [
    "# Curso Python\n",
    "## Tipos de datos.\n",
    "Los tipos de datos son la manera en que está dispuesta la información de código, hay tres tipos de datos, los enteros, los números reales y los strings.\n",
    "\n",
    "Un valor puede ser expresado en los diferentes tipos de datos como muestro a continuación:]"
   ]
  },
  {
   "attachments": {},
   "cell_type": "markdown",
   "metadata": {},
   "source": [
    "11 = int\n",
    "\n",
    "11.0 = float\n",
    "\n",
    "\"11\" = string\n",
    "\n",
    "También podemos utilizar el comando \"type\" para ver el tipo de dato que tenemos en nuestro código, donde:"
   ]
  },
  {
   "cell_type": "code",
   "execution_count": null,
   "metadata": {},
   "outputs": [],
   "source": [
    "#Introduce el dato del cual quieres saber el tipo, en este caso 11 entero\n",
    "type(11)"
   ]
  },
  {
   "attachments": {},
   "cell_type": "markdown",
   "metadata": {},
   "source": [
    "## Convirtiendo Datos de un tipo a otro\n",
    "En python se puede cambiar el tipo de dato, utilizando el comando correspondiente como podemos ver a continuación:\n",
    "\n",
    "int() para convertir a entero\n",
    "\n",
    "float() para convertir a real\n",
    "\n",
    "str() para convertir a texto o string\n",
    "\n",
    "En el caso de los strings para convertirlos a otro número, tiene que haber si o si un valor de entero o real entre las comillas, de lo contrario va a regresar un error"
   ]
  },
  {
   "cell_type": "code",
   "execution_count": 7,
   "metadata": {},
   "outputs": [
    {
     "data": {
      "text/plain": [
       "11"
      ]
     },
     "execution_count": 7,
     "metadata": {},
     "output_type": "execute_result"
    }
   ],
   "source": [
    "#Ejemplo Convirtiendo texto a entero.\n",
    "int(\"11\")"
   ]
  },
  {
   "attachments": {},
   "cell_type": "markdown",
   "metadata": {},
   "source": [
    "## Booleanos\n",
    "\n",
    "Los booleanos son tipos de datos que representan los valores \"verdadero\" y \"falso\" (valores lógicos) por medio de las expresiones \"True\" o \"False\" respectivamente, la primera letra debe ir expresada en mayúscula.\n",
    "\n",
    "Los booleanos pueden ser reconocidos como un tipo de dato como los anteriores tipos de valores con la funcion \"type\", observemos el código:"
   ]
  },
  {
   "cell_type": "code",
   "execution_count": 8,
   "metadata": {},
   "outputs": [
    {
     "data": {
      "text/plain": [
       "bool"
      ]
     },
     "execution_count": 8,
     "metadata": {},
     "output_type": "execute_result"
    }
   ],
   "source": [
    "#Conociendo el tipo de dato booleano.\n",
    "type(True)"
   ]
  },
  {
   "attachments": {},
   "cell_type": "markdown",
   "metadata": {},
   "source": [
    "El código regresa un tipo de dato \"bool\" que es la abreviación de boolean (booleano en inglés).\n",
    "\n",
    "### Convirtiendo Booleanos en otras entradas.\n",
    "\n",
    "Al igual que los otros tipos de datos, los booleanos pueden convertirse y regresar valores de diferente tipo con los correspondientes comandos de conversión, a su vez los otros tipos pueden regresarse como un valor booleano con el comando:\n",
    "\n",
    "bool() para convertir a booleano\n",
    "\n",
    "En las siguientes celdas de código se pueden observar:"
   ]
  },
  {
   "cell_type": "code",
   "execution_count": 9,
   "metadata": {},
   "outputs": [
    {
     "data": {
      "text/plain": [
       "1.0"
      ]
     },
     "execution_count": 9,
     "metadata": {},
     "output_type": "execute_result"
    }
   ],
   "source": [
    "#Para convertir un booleano a float o int\n",
    "float(True) #Debe regresar valor 1 para True, y 0 para False"
   ]
  },
  {
   "cell_type": "code",
   "execution_count": 11,
   "metadata": {},
   "outputs": [
    {
     "data": {
      "text/plain": [
       "False"
      ]
     },
     "execution_count": 11,
     "metadata": {},
     "output_type": "execute_result"
    }
   ],
   "source": [
    "#Para convertir de un float o int a bool\n",
    "bool(0)"
   ]
  },
  {
   "attachments": {},
   "cell_type": "markdown",
   "metadata": {},
   "source": [
    "Los booleanos pueden expresarse como String también y viceversa, pero no suele ser necesario porque solo regresan los dos valores lógicos de verdadero o falso."
   ]
  }
 ],
 "metadata": {
  "kernelspec": {
   "display_name": "Python 3",
   "language": "python",
   "name": "python3"
  },
  "language_info": {
   "codemirror_mode": {
    "name": "ipython",
    "version": 3
   },
   "file_extension": ".py",
   "mimetype": "text/x-python",
   "name": "python",
   "nbconvert_exporter": "python",
   "pygments_lexer": "ipython3",
   "version": "3.11.2"
  },
  "orig_nbformat": 4
 },
 "nbformat": 4,
 "nbformat_minor": 2
}
