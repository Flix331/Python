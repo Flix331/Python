{
 "cells": [
  {
   "attachments": {},
   "cell_type": "markdown",
   "metadata": {},
   "source": [
    "# Curso Python\n",
    "## Expresiones\n",
    "Las expresiones son las operaciones que nosotros damos como instrucciones a la computadora, es decir, son aquellas operaciones que queremos que nuestro código resuelva. Pueden ser operaciones aritméticas como suma, resta, multiplicación, división, etc."
   ]
  },
  {
   "cell_type": "code",
   "execution_count": 1,
   "metadata": {},
   "outputs": [
    {
     "data": {
      "text/plain": [
       "109"
      ]
     },
     "execution_count": 1,
     "metadata": {},
     "output_type": "execute_result"
    }
   ],
   "source": [
    "#Ejemplo de suma\n",
    "\n",
    "43+50+16"
   ]
  },
  {
   "attachments": {},
   "cell_type": "markdown",
   "metadata": {},
   "source": [
    "Para efectos de entorno, los números o valores usados en las expresiones, se conocen como operandos. Por otro lado, los símbolos que determinan el tipo de operación a ejecutar se conoce como operadores.\n",
    "\n",
    "En nuestro ejemplo anterior los operandos serían 43, 50, 16 y el operador sería el signo \"+\"\n",
    "\n",
    "Python puede regresar números negativos por medio de una operación de suma o resta:"
   ]
  },
  {
   "cell_type": "code",
   "execution_count": 2,
   "metadata": {},
   "outputs": [
    {
     "data": {
      "text/plain": [
       "-10"
      ]
     },
     "execution_count": 2,
     "metadata": {},
     "output_type": "execute_result"
    }
   ],
   "source": [
    "#Retorno de un número negativo\n",
    "50-60"
   ]
  },
  {
   "attachments": {},
   "cell_type": "markdown",
   "metadata": {},
   "source": [
    "Algunos operadores importantes serían: \n",
    "\n",
    "\"+\" Suma.\n",
    "\n",
    "\"-\" Resta.\n",
    "\n",
    "\"*\" Multiplicación.\n",
    "\n",
    "\"/\"  \"//\" División.\n",
    "\n",
    "\"=\" Igual o definición\n",
    "\n",
    "La multiplicación y las operaciones de suma o resta, regresan tanto números enteros como números reales dependiendo de los valores que introduzcamos, sin embargo, la división puede regresar un float o un int, dependiendo de como la expresemos"
   ]
  },
  {
   "cell_type": "code",
   "execution_count": 3,
   "metadata": {},
   "outputs": [
    {
     "data": {
      "text/plain": [
       "4.166666666666667"
      ]
     },
     "execution_count": 3,
     "metadata": {},
     "output_type": "execute_result"
    }
   ],
   "source": [
    "#Para regresar un float\n",
    "25/6"
   ]
  },
  {
   "cell_type": "code",
   "execution_count": 4,
   "metadata": {},
   "outputs": [
    {
     "data": {
      "text/plain": [
       "4"
      ]
     },
     "execution_count": 4,
     "metadata": {},
     "output_type": "execute_result"
    }
   ],
   "source": [
    "#Para regresar un int\n",
    "25//6"
   ]
  },
  {
   "attachments": {},
   "cell_type": "markdown",
   "metadata": {},
   "source": [
    "La diferencia en la expresión es el uso de las barras.\n",
    "\n",
    "Para el trabajo con expresiones, Python usa el orden convencional matemático (PEMDAS) para definir el orden de las operaciones:"
   ]
  },
  {
   "cell_type": "code",
   "execution_count": 6,
   "metadata": {},
   "outputs": [
    {
     "data": {
      "text/plain": [
       "38"
      ]
     },
     "execution_count": 6,
     "metadata": {},
     "output_type": "execute_result"
    }
   ],
   "source": [
    "23+3*5"
   ]
  },
  {
   "cell_type": "code",
   "execution_count": 7,
   "metadata": {},
   "outputs": [
    {
     "data": {
      "text/plain": [
       "38"
      ]
     },
     "execution_count": 7,
     "metadata": {},
     "output_type": "execute_result"
    }
   ],
   "source": [
    "3*5+23"
   ]
  },
  {
   "attachments": {},
   "cell_type": "markdown",
   "metadata": {},
   "source": [
    "En las dos celdas anteriores podemos observar que el orden de las operaciones está escrito de forma diferente, pero el resultado en ambos casos es 38 por el orden de las operaciones, en un dado caso que quisieramos multiplicar el 3 después de la suma, sería de la siguiente forma:"
   ]
  },
  {
   "cell_type": "code",
   "execution_count": 8,
   "metadata": {},
   "outputs": [
    {
     "data": {
      "text/plain": [
       "84"
      ]
     },
     "execution_count": 8,
     "metadata": {},
     "output_type": "execute_result"
    }
   ],
   "source": [
    "3*(5+23)"
   ]
  },
  {
   "attachments": {},
   "cell_type": "markdown",
   "metadata": {},
   "source": [
    "## Variables\n",
    "Una variable es donde almacenamos valores o expresiones para darle forma a nuestro código.\n",
    "\n",
    "Para definir variables utilizamos el operador \"=\" para asignar el valor inicial:"
   ]
  },
  {
   "cell_type": "code",
   "execution_count": 10,
   "metadata": {},
   "outputs": [
    {
     "name": "stdout",
     "output_type": "stream",
     "text": [
      "1\n"
     ]
    }
   ],
   "source": [
    "#Asignamos el valor 1 a la variable x\n",
    "x=1\n",
    "#Regresar el valor de x\n",
    "print(x)"
   ]
  },
  {
   "attachments": {},
   "cell_type": "markdown",
   "metadata": {},
   "source": [
    "Si queremos asignar un nuevo valor o redefinir la variable utilizaremos el operador nuevamente observemos la linea:"
   ]
  },
  {
   "cell_type": "code",
   "execution_count": 12,
   "metadata": {},
   "outputs": [
    {
     "name": "stdout",
     "output_type": "stream",
     "text": [
      "1\n",
      "2\n"
     ]
    }
   ],
   "source": [
    "#Asignamos el valor 1 a la variable x\n",
    "x=1\n",
    "#Regresar el valor de x\n",
    "print(x)\n",
    "\n",
    "#Redefinir valor de x\n",
    "x=2\n",
    "#Regresar el nuevo valor de x\n",
    "print(x)"
   ]
  },
  {
   "attachments": {},
   "cell_type": "markdown",
   "metadata": {},
   "source": [
    "Al regresar nuevamente el valor de \"x\", la computadora ya no toma en cuenta la primera definición del valor de la variable, sino que se queda con el último valor que le dimos, si quitaramos el primer \"print\" de la celda de código solo nos regresaría el valor 2:"
   ]
  },
  {
   "cell_type": "code",
   "execution_count": 13,
   "metadata": {},
   "outputs": [
    {
     "name": "stdout",
     "output_type": "stream",
     "text": [
      "2\n"
     ]
    }
   ],
   "source": [
    "#Asignamos el valor 1 a la variable x\n",
    "x=1\n",
    "#Redefinir valor de x\n",
    "x=2\n",
    "#Regresar el nuevo valor de x\n",
    "print(x)"
   ]
  },
  {
   "attachments": {},
   "cell_type": "markdown",
   "metadata": {},
   "source": [
    "En las variables también podemos almacenar los resultados de expresiones:"
   ]
  },
  {
   "cell_type": "code",
   "execution_count": 14,
   "metadata": {},
   "outputs": [
    {
     "name": "stdout",
     "output_type": "stream",
     "text": [
      "25\n"
     ]
    }
   ],
   "source": [
    "#Definimos la variable x como resultado de una expresión\n",
    "x=10+4+5+6\n",
    "\n",
    "#Nos regresa el valor de x \n",
    "print(x)"
   ]
  },
  {
   "attachments": {},
   "cell_type": "markdown",
   "metadata": {},
   "source": [
    "De la misma manera, podemos llamar a una variable desde otra variable para realizar operaciones con ella, por ejemplo:"
   ]
  },
  {
   "cell_type": "code",
   "execution_count": 17,
   "metadata": {},
   "outputs": [
    {
     "name": "stdout",
     "output_type": "stream",
     "text": [
      "25\n",
      "2.5\n"
     ]
    }
   ],
   "source": [
    "#Definimos x \n",
    "x = 10+4+5+6\n",
    "\n",
    "#Vemos el resultado de x\n",
    "print(x)\n",
    "\n",
    "#Definimos y para realizar una operación con x\n",
    "\n",
    "y = x/10\n",
    "\n",
    "#Vemos el resultado de y\n",
    "print(y)"
   ]
  },
  {
   "attachments": {},
   "cell_type": "markdown",
   "metadata": {},
   "source": [
    "A su vez, podemos redefinir una variable utilizando el valor \"antiguo\" de la misma variable para realizar operaciones por ejemplo:"
   ]
  },
  {
   "cell_type": "code",
   "execution_count": 19,
   "metadata": {},
   "outputs": [
    {
     "name": "stdout",
     "output_type": "stream",
     "text": [
      "2.5\n"
     ]
    }
   ],
   "source": [
    "#Definimos x \n",
    "x = 10+4+5+6\n",
    "\n",
    "#Definimos x de nuevo usando el resultado anterior\n",
    "x = x/10\n",
    "\n",
    "#Vemos el nuevo resultado de x\n",
    "print(x)"
   ]
  },
  {
   "attachments": {},
   "cell_type": "markdown",
   "metadata": {},
   "source": [
    "Dado que las variables regresan un valor, también podemos usar los comandos para cambiar el tipo de dato o ver que tipo de dato nos regresa la variable:"
   ]
  },
  {
   "cell_type": "code",
   "execution_count": 21,
   "metadata": {},
   "outputs": [
    {
     "data": {
      "text/plain": [
       "float"
      ]
     },
     "execution_count": 21,
     "metadata": {},
     "output_type": "execute_result"
    }
   ],
   "source": [
    "#Definimos x \n",
    "x = 10+4+5+6\n",
    "\n",
    "#Definimos x de nuevo usando el resultado anterior, observamos que tipo de dato nos regresa\n",
    "x = x/10\n",
    "type(x)\n"
   ]
  },
  {
   "cell_type": "code",
   "execution_count": 24,
   "metadata": {},
   "outputs": [
    {
     "data": {
      "text/plain": [
       "2"
      ]
     },
     "execution_count": 24,
     "metadata": {},
     "output_type": "execute_result"
    }
   ],
   "source": [
    "#Si quisieramos cambiar de float a int sin alterar las operaciones de la variable\n",
    "x = 10+4+5+6\n",
    "\n",
    "x = x/10\n",
    "int(x)\n"
   ]
  },
  {
   "attachments": {},
   "cell_type": "markdown",
   "metadata": {},
   "source": [
    "Cabe destacar que el comando de cambio nos regresa el valor en otro tipo de datos de la variable original, pero no altera la salida de la misma, es decir que si escribimos el comando type() para x siempre nos va a decir que es de tipo float, sin embargo podemos redifnirla de la siguiente forma:"
   ]
  },
  {
   "cell_type": "code",
   "execution_count": 28,
   "metadata": {},
   "outputs": [
    {
     "data": {
      "text/plain": [
       "float"
      ]
     },
     "execution_count": 28,
     "metadata": {},
     "output_type": "execute_result"
    }
   ],
   "source": [
    "#Observemos que con el codigo anterior, el tipo sigue siendo float\n",
    "\n",
    "x = 10+4+5+6\n",
    "\n",
    "x = x/10\n",
    "int(x)\n",
    "type(x)"
   ]
  },
  {
   "cell_type": "code",
   "execution_count": 27,
   "metadata": {},
   "outputs": [
    {
     "data": {
      "text/plain": [
       "int"
      ]
     },
     "execution_count": 27,
     "metadata": {},
     "output_type": "execute_result"
    }
   ],
   "source": [
    "#Definimos y redifinimos x normalmente \n",
    "x = 10+4+5+6\n",
    "\n",
    "x = x/10\n",
    "#Cambiamos el tipo de x y debería regresar el tipo int ahora\n",
    "x = int(x)\n",
    "type(x)"
   ]
  },
  {
   "attachments": {},
   "cell_type": "markdown",
   "metadata": {},
   "source": [
    "Esto es importante porque podemos almacenar información de diferentes formas dentro de distintas variables sin necesidad de hacer operaciones una y otra vez, o de reescribir código, veamos como se aplicaría al ejemplo:"
   ]
  },
  {
   "cell_type": "code",
   "execution_count": 37,
   "metadata": {},
   "outputs": [
    {
     "name": "stdout",
     "output_type": "stream",
     "text": [
      "2.5\n",
      "2\n",
      "2.5\n"
     ]
    },
    {
     "data": {
      "text/plain": [
       "float"
      ]
     },
     "execution_count": 37,
     "metadata": {},
     "output_type": "execute_result"
    }
   ],
   "source": [
    "#Definimos y redifinimos x \n",
    "x = 10+4+5+6\n",
    "\n",
    "x = x/10\n",
    "#Usamos y para almacenar el resultado en numeros enteros\n",
    "y = int(x)\n",
    "#Usamos z para almacenar el resultado en tipo string o texto\n",
    "z = str(x)\n",
    "#Regresamos todas las variables\n",
    "print(x)\n",
    "print(y)\n",
    "print(z)\n",
    "\n",
    "#Vemos que el tipo de x siempre queda como float.\n",
    "type(x)"
   ]
  },
  {
   "attachments": {},
   "cell_type": "markdown",
   "metadata": {},
   "source": [
    "En resumen, las variables son la parte del código donde almacenaremos valores más comodamente, podemos realizar operaciones con ellas, darles formato, o redefinirlas a nuestro antojo si es necesario. Es importante tener en cuenta también que lo mejor siempre va a ser evitar valores arbitrarios como \"x\" o \"y\" para proyectos reales, lo mejor siempre será dar nombres que nos permitan rastrear nuestras operaciones sin confundirnos por ejemplo:"
   ]
  },
  {
   "cell_type": "code",
   "execution_count": 40,
   "metadata": {},
   "outputs": [
    {
     "data": {
      "text/plain": [
       "11"
      ]
     },
     "execution_count": 40,
     "metadata": {},
     "output_type": "execute_result"
    }
   ],
   "source": [
    "#En un estudio de máquinas medí 11 minutos\n",
    "total_min = 11\n",
    "\n",
    "#Con este nombre puedo interpretar que el total de minutos que medí es de 11.\n",
    "total_min"
   ]
  }
 ],
 "metadata": {
  "kernelspec": {
   "display_name": "Python 3",
   "language": "python",
   "name": "python3"
  },
  "language_info": {
   "codemirror_mode": {
    "name": "ipython",
    "version": 3
   },
   "file_extension": ".py",
   "mimetype": "text/x-python",
   "name": "python",
   "nbconvert_exporter": "python",
   "pygments_lexer": "ipython3",
   "version": "3.11.2"
  },
  "orig_nbformat": 4
 },
 "nbformat": 4,
 "nbformat_minor": 2
}
