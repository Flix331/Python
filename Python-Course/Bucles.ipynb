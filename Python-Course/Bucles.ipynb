{
 "cells": [
  {
   "attachments": {},
   "cell_type": "markdown",
   "metadata": {},
   "source": [
    "# Curso Python"
   ]
  },
  {
   "attachments": {},
   "cell_type": "markdown",
   "metadata": {},
   "source": [
    "## Bucles "
   ]
  },
  {
   "attachments": {},
   "cell_type": "markdown",
   "metadata": {},
   "source": [
    "### For"
   ]
  },
  {
   "attachments": {},
   "cell_type": "markdown",
   "metadata": {},
   "source": [
    "El bucle For es una forma de ejecutar un codigo de forma reiterativa, es decir que se ejecute varias veces hasta finalizar con los parámetros que le indiquemos mediante la función range generalmente. Es decir, hara tantas iteraciones como nosotros definamos, veamoslo en la práctica:"
   ]
  },
  {
   "cell_type": "code",
   "execution_count": 32,
   "metadata": {},
   "outputs": [
    {
     "name": "stdout",
     "output_type": "stream",
     "text": [
      "3\n",
      "8\n",
      "9\n",
      "10\n"
     ]
    }
   ],
   "source": [
    "datos = [3, 8, 9, 10]\n",
    "n_datos = len(datos)\n",
    "\n",
    "for i in range(n_datos):\n",
    "    print(datos[i])"
   ]
  },
  {
   "attachments": {},
   "cell_type": "markdown",
   "metadata": {},
   "source": [
    "Observa como un solo comando print nos imprime todos los valores de la lista datos haciendo más eficiente el código que ir consultando cada elemento de la lista por medio de su índice, recuerda que i en este caso funciona como una referencia a \"iteración\", es decir es un objeto que tomará valores desde 0 hasta el rango que le definamos (en este caso n_datos) y podemos usar cada uno de sus valores para llevar a cabo el bucle, en terminos generales imagina que \"i\" está recorriendo cada uno de los elementos de la lista y está regresando su valor por medio del print. No olvides que i solo funciona con números enteros, es por eso que tenemos que definir primero una variable que almacene el tamaño de nuestra muestra de datos y después utilizarla para determinar el valor de i para realizar cada iteración, dado que i aumenta en pasos de 1 en 1 hasta llegar al último elemento del rango que le asignamos."
   ]
  },
  {
   "attachments": {},
   "cell_type": "markdown",
   "metadata": {},
   "source": [
    "Aún así, podemos acceder a los elementos de la lista directamente sin necesidad de asignar un rango, por ejemplo:"
   ]
  },
  {
   "cell_type": "code",
   "execution_count": 33,
   "metadata": {},
   "outputs": [
    {
     "name": "stdout",
     "output_type": "stream",
     "text": [
      "3\n",
      "8\n",
      "9\n",
      "10\n"
     ]
    }
   ],
   "source": [
    "for valores in datos:\n",
    "    print(valores)"
   ]
  },
  {
   "attachments": {},
   "cell_type": "markdown",
   "metadata": {},
   "source": [
    "Observa que de esta manera no necesitamos de agregar un rango, solamente requerimos de nuestra variable que va a almacenar las iteraciones y luego la imprimimos normalmente, el resultado será que la variable (valores) cambiará su valor en cada iteración por cada uno de los valores de la lista, y al imprimirla, se ejecutará el comando en cada iteración gracias a la estructura de bucle."
   ]
  },
  {
   "attachments": {},
   "cell_type": "markdown",
   "metadata": {},
   "source": [
    "Con el comando range puedes recuperar el rango también de una serie de números por ejemplo:"
   ]
  },
  {
   "cell_type": "code",
   "execution_count": 34,
   "metadata": {},
   "outputs": [
    {
     "name": "stdout",
     "output_type": "stream",
     "text": [
      "0\n",
      "1\n",
      "2\n",
      "3\n",
      "4\n",
      "5\n",
      "6\n",
      "7\n",
      "8\n"
     ]
    }
   ],
   "source": [
    "for i in range(0,9):\n",
    "    print(i)"
   ]
  },
  {
   "attachments": {},
   "cell_type": "markdown",
   "metadata": {},
   "source": [
    "Pon atención en que range funciona muy similar a una lista, puesto que el índice de los elementos que regresa empieza desde 0, es decir que la cuenta que hicimos es de los números del 0 al 8 (0 cuenta como 1 número en sí), esto no debería suponerte ningún tropiezo dado que ya vista las tuplas y las listas."
   ]
  },
  {
   "attachments": {},
   "cell_type": "markdown",
   "metadata": {},
   "source": [
    "Ahora para finalizar, imagina que necesitas recuperar el valor indexado de cada elemento de una lista, imagina que tienes una lista de clientes y necesitas asignarle un valor indexado para una base de datos (no repetible) como identificación:"
   ]
  },
  {
   "cell_type": "code",
   "execution_count": 35,
   "metadata": {},
   "outputs": [
    {
     "name": "stdout",
     "output_type": "stream",
     "text": [
      "0 Alan\n",
      "1 Chris\n",
      "2 Mike\n",
      "3 Ralph\n"
     ]
    }
   ],
   "source": [
    "clientes = [\"Alan\", \"Chris\", \"Mike\", \"Ralph\"]\n",
    "\n",
    "for n_clientes, nombres in enumerate(clientes):\n",
    "    print(n_clientes, nombres)"
   ]
  },
  {
   "attachments": {},
   "cell_type": "markdown",
   "metadata": {},
   "source": [
    "Observa como esto nos regresará una lista de los clientes con un valor único que representa su índice en la lista utilizando los atributos de la clase enumarete, solo ten en cuenta que si necesitas consultar la variable n_clientes por ejemplo para realizar más calculos estadísticos haciendo referencia al total de clientes, le tendríamos que sumar 1 para que n_clientes nos sea útil como total de clientes:"
   ]
  },
  {
   "cell_type": "code",
   "execution_count": 36,
   "metadata": {},
   "outputs": [
    {
     "data": {
      "text/plain": [
       "4"
      ]
     },
     "execution_count": 36,
     "metadata": {},
     "output_type": "execute_result"
    }
   ],
   "source": [
    "n_clientes = n_clientes + 1\n",
    "n_clientes"
   ]
  },
  {
   "attachments": {},
   "cell_type": "markdown",
   "metadata": {},
   "source": [
    "Estas son algunos ejemplos elementales para que comprendas como funcionan los bucles y como puedes utilizarlos dentro de la sintaxis de Python, te recomiendo buscar algunos ejemplos aplicados a la vida real como algoritmos en sistemas de transporte, iteraciones aritméticas, entre otros, intenta hacer tu propio bucle for y sigue avanzando, en la carpeta examples encontrarás algunos archivos de referencia, esquina_noroeste es un algoritmo que utiliza while y for para diferentes propósitos, hechale un vistazo y trata de entender el código."
   ]
  }
 ],
 "metadata": {
  "kernelspec": {
   "display_name": "Python 3",
   "language": "python",
   "name": "python3"
  },
  "language_info": {
   "codemirror_mode": {
    "name": "ipython",
    "version": 3
   },
   "file_extension": ".py",
   "mimetype": "text/x-python",
   "name": "python",
   "nbconvert_exporter": "python",
   "pygments_lexer": "ipython3",
   "version": "3.11.2"
  },
  "orig_nbformat": 4
 },
 "nbformat": 4,
 "nbformat_minor": 2
}
